{
 "cells": [
  {
   "cell_type": "code",
   "execution_count": 41,
   "id": "6d940dd8",
   "metadata": {},
   "outputs": [],
   "source": [
    "import numpy as np\n",
    "import pandas as pd\n",
    "import matplotlib.pyplot as plt\n",
    "import seaborn as sns\n",
    "from scipy.stats import boxcox\n",
    "from sklearn.model_selection import train_test_split\n",
    "from sklearn.model_selection import KFold\n",
    "from sklearn.preprocessing import MinMaxScaler\n",
    "from sklearn.compose import ColumnTransformer\n",
    "from sklearn.linear_model import LogisticRegression\n",
    "from sklearn.ensemble import RandomForestClassifier\n",
    "from imblearn.over_sampling import SMOTE\n",
    "from xgboost import XGBClassifier\n",
    "from sklearn.model_selection import RandomizedSearchCV\n",
    "from sklearn.model_selection import GridSearchCV\n",
    "from sklearn.model_selection import RepeatedStratifiedKFold\n",
    "from time import time\n",
    "from sklearn.metrics import accuracy_score, precision_score, recall_score\n",
    "from sklearn.metrics import roc_auc_score\n",
    "from sklearn.model_selection import StratifiedShuffleSplit"
   ]
  },
  {
   "cell_type": "code",
   "execution_count": 42,
   "id": "ce01e484",
   "metadata": {},
   "outputs": [],
   "source": [
    "pd.set_option('display.max_rows', None, 'display.max_columns', None)"
   ]
  },
  {
   "cell_type": "code",
   "execution_count": 161,
   "id": "de5b6eb3",
   "metadata": {},
   "outputs": [],
   "source": [
    "df = pd.read_csv('Churn Modeling.csv')"
   ]
  },
  {
   "cell_type": "code",
   "execution_count": 44,
   "id": "381a0cbb",
   "metadata": {},
   "outputs": [
    {
     "data": {
      "text/html": [
       "<div>\n",
       "<style scoped>\n",
       "    .dataframe tbody tr th:only-of-type {\n",
       "        vertical-align: middle;\n",
       "    }\n",
       "\n",
       "    .dataframe tbody tr th {\n",
       "        vertical-align: top;\n",
       "    }\n",
       "\n",
       "    .dataframe thead th {\n",
       "        text-align: right;\n",
       "    }\n",
       "</style>\n",
       "<table border=\"1\" class=\"dataframe\">\n",
       "  <thead>\n",
       "    <tr style=\"text-align: right;\">\n",
       "      <th></th>\n",
       "      <th>RowNumber</th>\n",
       "      <th>CustomerId</th>\n",
       "      <th>Surname</th>\n",
       "      <th>CreditScore</th>\n",
       "      <th>Geography</th>\n",
       "      <th>Gender</th>\n",
       "      <th>Age</th>\n",
       "      <th>Tenure</th>\n",
       "      <th>Balance</th>\n",
       "      <th>NumOfProducts</th>\n",
       "      <th>HasCrCard</th>\n",
       "      <th>IsActiveMember</th>\n",
       "      <th>EstimatedSalary</th>\n",
       "      <th>Exited</th>\n",
       "    </tr>\n",
       "  </thead>\n",
       "  <tbody>\n",
       "    <tr>\n",
       "      <th>0</th>\n",
       "      <td>1</td>\n",
       "      <td>15634602</td>\n",
       "      <td>Hargrave</td>\n",
       "      <td>619</td>\n",
       "      <td>France</td>\n",
       "      <td>Female</td>\n",
       "      <td>42</td>\n",
       "      <td>2</td>\n",
       "      <td>0.00</td>\n",
       "      <td>1</td>\n",
       "      <td>1</td>\n",
       "      <td>1</td>\n",
       "      <td>101348.88</td>\n",
       "      <td>1</td>\n",
       "    </tr>\n",
       "    <tr>\n",
       "      <th>1</th>\n",
       "      <td>2</td>\n",
       "      <td>15647311</td>\n",
       "      <td>Hill</td>\n",
       "      <td>608</td>\n",
       "      <td>Spain</td>\n",
       "      <td>Female</td>\n",
       "      <td>41</td>\n",
       "      <td>1</td>\n",
       "      <td>83807.86</td>\n",
       "      <td>1</td>\n",
       "      <td>0</td>\n",
       "      <td>1</td>\n",
       "      <td>112542.58</td>\n",
       "      <td>0</td>\n",
       "    </tr>\n",
       "    <tr>\n",
       "      <th>2</th>\n",
       "      <td>3</td>\n",
       "      <td>15619304</td>\n",
       "      <td>Onio</td>\n",
       "      <td>502</td>\n",
       "      <td>France</td>\n",
       "      <td>Female</td>\n",
       "      <td>42</td>\n",
       "      <td>8</td>\n",
       "      <td>159660.80</td>\n",
       "      <td>3</td>\n",
       "      <td>1</td>\n",
       "      <td>0</td>\n",
       "      <td>113931.57</td>\n",
       "      <td>1</td>\n",
       "    </tr>\n",
       "    <tr>\n",
       "      <th>3</th>\n",
       "      <td>4</td>\n",
       "      <td>15701354</td>\n",
       "      <td>Boni</td>\n",
       "      <td>699</td>\n",
       "      <td>France</td>\n",
       "      <td>Female</td>\n",
       "      <td>39</td>\n",
       "      <td>1</td>\n",
       "      <td>0.00</td>\n",
       "      <td>2</td>\n",
       "      <td>0</td>\n",
       "      <td>0</td>\n",
       "      <td>93826.63</td>\n",
       "      <td>0</td>\n",
       "    </tr>\n",
       "    <tr>\n",
       "      <th>4</th>\n",
       "      <td>5</td>\n",
       "      <td>15737888</td>\n",
       "      <td>Mitchell</td>\n",
       "      <td>850</td>\n",
       "      <td>Spain</td>\n",
       "      <td>Female</td>\n",
       "      <td>43</td>\n",
       "      <td>2</td>\n",
       "      <td>125510.82</td>\n",
       "      <td>1</td>\n",
       "      <td>1</td>\n",
       "      <td>1</td>\n",
       "      <td>79084.10</td>\n",
       "      <td>0</td>\n",
       "    </tr>\n",
       "  </tbody>\n",
       "</table>\n",
       "</div>"
      ],
      "text/plain": [
       "   RowNumber  CustomerId   Surname  CreditScore Geography  Gender  Age  \\\n",
       "0          1    15634602  Hargrave          619    France  Female   42   \n",
       "1          2    15647311      Hill          608     Spain  Female   41   \n",
       "2          3    15619304      Onio          502    France  Female   42   \n",
       "3          4    15701354      Boni          699    France  Female   39   \n",
       "4          5    15737888  Mitchell          850     Spain  Female   43   \n",
       "\n",
       "   Tenure    Balance  NumOfProducts  HasCrCard  IsActiveMember  \\\n",
       "0       2       0.00              1          1               1   \n",
       "1       1   83807.86              1          0               1   \n",
       "2       8  159660.80              3          1               0   \n",
       "3       1       0.00              2          0               0   \n",
       "4       2  125510.82              1          1               1   \n",
       "\n",
       "   EstimatedSalary  Exited  \n",
       "0        101348.88       1  \n",
       "1        112542.58       0  \n",
       "2        113931.57       1  \n",
       "3         93826.63       0  \n",
       "4         79084.10       0  "
      ]
     },
     "execution_count": 44,
     "metadata": {},
     "output_type": "execute_result"
    }
   ],
   "source": [
    "df.head()"
   ]
  },
  {
   "cell_type": "code",
   "execution_count": 45,
   "id": "fdfd43f5",
   "metadata": {},
   "outputs": [
    {
     "data": {
      "text/plain": [
       "(10000, 14)"
      ]
     },
     "execution_count": 45,
     "metadata": {},
     "output_type": "execute_result"
    }
   ],
   "source": [
    "df.shape"
   ]
  },
  {
   "cell_type": "code",
   "execution_count": 46,
   "id": "f7504c5e",
   "metadata": {},
   "outputs": [],
   "source": [
    "df.drop(['RowNumber', 'CustomerId', 'Surname'], axis=1, inplace=True)"
   ]
  },
  {
   "cell_type": "markdown",
   "id": "2deb561d",
   "metadata": {},
   "source": [
    "## Continuous Feature"
   ]
  },
  {
   "cell_type": "code",
   "execution_count": 47,
   "id": "723d7680",
   "metadata": {},
   "outputs": [],
   "source": [
    "cont_feat = ['CreditScore', 'Age', 'Tenure', 'Balance', 'NumOfProducts', 'EstimatedSalary']"
   ]
  },
  {
   "cell_type": "code",
   "execution_count": 48,
   "id": "479850d0",
   "metadata": {},
   "outputs": [],
   "source": [
    "def describe_cont_feature(feature):\n",
    "    print('\\n*** Results for {} ***'.format(feature))\n",
    "    print(df.groupby('Exited')[feature].describe())"
   ]
  },
  {
   "cell_type": "code",
   "execution_count": 49,
   "id": "a035ed52",
   "metadata": {},
   "outputs": [
    {
     "name": "stdout",
     "output_type": "stream",
     "text": [
      "\n",
      "*** Results for CreditScore ***\n",
      "         count        mean         std    min    25%    50%    75%    max\n",
      "Exited                                                                   \n",
      "0       7963.0  651.853196   95.653837  405.0  585.0  653.0  718.0  850.0\n",
      "1       2037.0  645.351497  100.321503  350.0  578.0  646.0  716.0  850.0\n",
      "\n",
      "*** Results for Age ***\n",
      "         count       mean        std   min   25%   50%   75%   max\n",
      "Exited                                                            \n",
      "0       7963.0  37.408389  10.125363  18.0  31.0  36.0  41.0  92.0\n",
      "1       2037.0  44.837997   9.761562  18.0  38.0  45.0  51.0  84.0\n",
      "\n",
      "*** Results for Tenure ***\n",
      "         count      mean       std  min  25%  50%  75%   max\n",
      "Exited                                                      \n",
      "0       7963.0  5.033279  2.880658  0.0  3.0  5.0  7.0  10.0\n",
      "1       2037.0  4.932744  2.936106  0.0  2.0  5.0  8.0  10.0\n",
      "\n",
      "*** Results for Balance ***\n",
      "         count          mean           std  min       25%        50%  \\\n",
      "Exited                                                                 \n",
      "0       7963.0  72745.296779  62848.040701  0.0      0.00   92072.68   \n",
      "1       2037.0  91108.539337  58360.794816  0.0  38340.02  109349.29   \n",
      "\n",
      "              75%        max  \n",
      "Exited                        \n",
      "0       126410.28  221532.80  \n",
      "1       131433.33  250898.09  \n",
      "\n",
      "*** Results for NumOfProducts ***\n",
      "         count      mean       std  min  25%  50%  75%  max\n",
      "Exited                                                     \n",
      "0       7963.0  1.544267  0.509536  1.0  1.0  2.0  2.0  3.0\n",
      "1       2037.0  1.475209  0.801521  1.0  1.0  1.0  2.0  4.0\n",
      "\n",
      "*** Results for EstimatedSalary ***\n",
      "         count           mean           std    min       25%        50%  \\\n",
      "Exited                                                                    \n",
      "0       7963.0   99738.391772  57405.586966  90.07  50783.49   99645.04   \n",
      "1       2037.0  101465.677531  57912.418071  11.58  51907.72  102460.84   \n",
      "\n",
      "               75%        max  \n",
      "Exited                         \n",
      "0       148609.955  199992.48  \n",
      "1       152422.910  199808.10  \n"
     ]
    }
   ],
   "source": [
    "for feat in cont_feat:\n",
    "    describe_cont_feature(feat)"
   ]
  },
  {
   "cell_type": "code",
   "execution_count": 50,
   "id": "1ea64cf3",
   "metadata": {
    "scrolled": false
   },
   "outputs": [
    {
     "data": {
      "image/png": "[encoded data removed]",
      "text/plain": [
       "<Figure size 720x360 with 2 Axes>"
      ]
     },
     "metadata": {
      "needs_background": "light"
     },
     "output_type": "display_data"
    },
    {
     "data": {
      "image/png": "[encoded data removed]",
      "text/plain": [
       "<Figure size 720x360 with 2 Axes>"
      ]
     },
     "metadata": {
      "needs_background": "light"
     },
     "output_type": "display_data"
    },
    {
     "data": {
      "image/png": "[encoded data removed]",
      "text/plain": [
       "<Figure size 720x360 with 2 Axes>"
      ]
     },
     "metadata": {
      "needs_background": "light"
     },
     "output_type": "display_data"
    },
    {
     "data": {
      "image/png": "[encoded data removed]",
      "text/plain": [
       "<Figure size 720x360 with 2 Axes>"
      ]
     },
     "metadata": {
      "needs_background": "light"
     },
     "output_type": "display_data"
    },
    {
     "data": {
      "image/png": "[encoded data removed]",
      "text/plain": [
       "<Figure size 720x360 with 2 Axes>"
      ]
     },
     "metadata": {
      "needs_background": "light"
     },
     "output_type": "display_data"
    },
    {
     "data": {
      "image/png": "[encoded data removed]",
      "text/plain": [
       "<Figure size 720x360 with 2 Axes>"
      ]
     },
     "metadata": {
      "needs_background": "light"
     },
     "output_type": "display_data"
    }
   ],
   "source": [
    "for col in cont_feat:\n",
    "    f, ax = plt.subplots(1, 2, figsize = (10, 5))\n",
    "    sns.histplot(data = df, hue = 'Exited', x = col, ax=ax[0])\n",
    "    sns.boxplot(x='Exited',y=col, data=df, ax=ax[1])\n",
    "    plt.show()"
   ]
  },
  {
   "cell_type": "code",
   "execution_count": 51,
   "id": "684afa99",
   "metadata": {},
   "outputs": [],
   "source": [
    "def detect_outliers(feature):\n",
    "    outliers = []\n",
    "    data = df[feature]\n",
    "    mean = np.mean(data)\n",
    "    std = np.std(data)\n",
    "    \n",
    "    for y in data:\n",
    "        z_score = (y - mean) / std\n",
    "        if np.abs(z_score) > 3:\n",
    "            outliers.append(y)\n",
    "    print('\\n Outliers caps for {}: '.format(feature))\n",
    "    print('  --95p: {:.1f} / {} values exceed that'.format(data.quantile(.95),\n",
    "                                                          len([i for i in data if i > data.quantile(.95)])))\n",
    "    print('  --3sd: {:.1f} / {} values exceed that'.format(mean + 3 * std, len(outliers)))\n",
    "    print('  --99p: {:.1f} / {} values exceed that'.format(data.quantile(.99), \n",
    "                                                          len([i for i in data if i > data.quantile(.99)])))"
   ]
  },
  {
   "cell_type": "code",
   "execution_count": 162,
   "id": "3ee314fa",
   "metadata": {},
   "outputs": [
    {
     "name": "stdout",
     "output_type": "stream",
     "text": [
      "\n",
      " Outliers caps for CreditScore: \n",
      "  --95p: 812.0 / 499 values exceed that\n",
      "  --3sd: 940.5 / 8 values exceed that\n",
      "  --99p: 850.0 / 0 values exceed that\n",
      "\n",
      " Outliers caps for Age: \n",
      "  --95p: 60.0 / 464 values exceed that\n",
      "  --3sd: 70.4 / 133 values exceed that\n",
      "  --99p: 72.0 / 85 values exceed that\n",
      "\n",
      " Outliers caps for Tenure: \n",
      "  --95p: 9.0 / 490 values exceed that\n",
      "  --3sd: 13.7 / 0 values exceed that\n",
      "  --99p: 10.0 / 0 values exceed that\n",
      "\n",
      " Outliers caps for Balance: \n",
      "  --95p: 162711.7 / 500 values exceed that\n",
      "  --3sd: 263668.7 / 0 values exceed that\n",
      "  --99p: 185968.0 / 100 values exceed that\n",
      "\n",
      " Outliers caps for NumOfProducts: \n",
      "  --95p: 2.0 / 326 values exceed that\n",
      "  --3sd: 3.3 / 60 values exceed that\n",
      "  --99p: 3.0 / 60 values exceed that\n",
      "\n",
      " Outliers caps for EstimatedSalary: \n",
      "  --95p: 190155.4 / 500 values exceed that\n",
      "  --3sd: 272613.1 / 0 values exceed that\n",
      "  --99p: 198069.7 / 100 values exceed that\n"
     ]
    }
   ],
   "source": [
    "for feat in cont_feat:\n",
    "    detect_outliers(feat)"
   ]
  },
  {
   "cell_type": "markdown",
   "id": "e0b43650",
   "metadata": {},
   "source": [
    "### Remove Outiers"
   ]
  },
  {
   "cell_type": "code",
   "execution_count": 53,
   "id": "fc2c73d8",
   "metadata": {},
   "outputs": [],
   "source": [
    "df['Age'].clip(upper = df['Age'].quantile(.99), inplace = True)"
   ]
  },
  {
   "cell_type": "markdown",
   "id": "ea2a1fe7",
   "metadata": {},
   "source": [
    "## Categorical Variables"
   ]
  },
  {
   "cell_type": "code",
   "execution_count": 54,
   "id": "45bf53af",
   "metadata": {},
   "outputs": [
    {
     "data": {
      "text/html": [
       "<div>\n",
       "<style scoped>\n",
       "    .dataframe tbody tr th:only-of-type {\n",
       "        vertical-align: middle;\n",
       "    }\n",
       "\n",
       "    .dataframe tbody tr th {\n",
       "        vertical-align: top;\n",
       "    }\n",
       "\n",
       "    .dataframe thead th {\n",
       "        text-align: right;\n",
       "    }\n",
       "</style>\n",
       "<table border=\"1\" class=\"dataframe\">\n",
       "  <thead>\n",
       "    <tr style=\"text-align: right;\">\n",
       "      <th></th>\n",
       "      <th>CreditScore</th>\n",
       "      <th>Geography</th>\n",
       "      <th>Gender</th>\n",
       "      <th>Age</th>\n",
       "      <th>Tenure</th>\n",
       "      <th>Balance</th>\n",
       "      <th>NumOfProducts</th>\n",
       "      <th>HasCrCard</th>\n",
       "      <th>IsActiveMember</th>\n",
       "      <th>EstimatedSalary</th>\n",
       "      <th>Exited</th>\n",
       "    </tr>\n",
       "  </thead>\n",
       "  <tbody>\n",
       "    <tr>\n",
       "      <th>0</th>\n",
       "      <td>619</td>\n",
       "      <td>France</td>\n",
       "      <td>Female</td>\n",
       "      <td>42</td>\n",
       "      <td>2</td>\n",
       "      <td>0.00</td>\n",
       "      <td>1</td>\n",
       "      <td>1</td>\n",
       "      <td>1</td>\n",
       "      <td>101348.88</td>\n",
       "      <td>1</td>\n",
       "    </tr>\n",
       "    <tr>\n",
       "      <th>1</th>\n",
       "      <td>608</td>\n",
       "      <td>Spain</td>\n",
       "      <td>Female</td>\n",
       "      <td>41</td>\n",
       "      <td>1</td>\n",
       "      <td>83807.86</td>\n",
       "      <td>1</td>\n",
       "      <td>0</td>\n",
       "      <td>1</td>\n",
       "      <td>112542.58</td>\n",
       "      <td>0</td>\n",
       "    </tr>\n",
       "    <tr>\n",
       "      <th>2</th>\n",
       "      <td>502</td>\n",
       "      <td>France</td>\n",
       "      <td>Female</td>\n",
       "      <td>42</td>\n",
       "      <td>8</td>\n",
       "      <td>159660.80</td>\n",
       "      <td>3</td>\n",
       "      <td>1</td>\n",
       "      <td>0</td>\n",
       "      <td>113931.57</td>\n",
       "      <td>1</td>\n",
       "    </tr>\n",
       "    <tr>\n",
       "      <th>3</th>\n",
       "      <td>699</td>\n",
       "      <td>France</td>\n",
       "      <td>Female</td>\n",
       "      <td>39</td>\n",
       "      <td>1</td>\n",
       "      <td>0.00</td>\n",
       "      <td>2</td>\n",
       "      <td>0</td>\n",
       "      <td>0</td>\n",
       "      <td>93826.63</td>\n",
       "      <td>0</td>\n",
       "    </tr>\n",
       "    <tr>\n",
       "      <th>4</th>\n",
       "      <td>850</td>\n",
       "      <td>Spain</td>\n",
       "      <td>Female</td>\n",
       "      <td>43</td>\n",
       "      <td>2</td>\n",
       "      <td>125510.82</td>\n",
       "      <td>1</td>\n",
       "      <td>1</td>\n",
       "      <td>1</td>\n",
       "      <td>79084.10</td>\n",
       "      <td>0</td>\n",
       "    </tr>\n",
       "  </tbody>\n",
       "</table>\n",
       "</div>"
      ],
      "text/plain": [
       "   CreditScore Geography  Gender  Age  Tenure    Balance  NumOfProducts  \\\n",
       "0          619    France  Female   42       2       0.00              1   \n",
       "1          608     Spain  Female   41       1   83807.86              1   \n",
       "2          502    France  Female   42       8  159660.80              3   \n",
       "3          699    France  Female   39       1       0.00              2   \n",
       "4          850     Spain  Female   43       2  125510.82              1   \n",
       "\n",
       "   HasCrCard  IsActiveMember  EstimatedSalary  Exited  \n",
       "0          1               1        101348.88       1  \n",
       "1          0               1        112542.58       0  \n",
       "2          1               0        113931.57       1  \n",
       "3          0               0         93826.63       0  \n",
       "4          1               1         79084.10       0  "
      ]
     },
     "execution_count": 54,
     "metadata": {},
     "output_type": "execute_result"
    }
   ],
   "source": [
    "df.head()"
   ]
  },
  {
   "cell_type": "code",
   "execution_count": 55,
   "id": "f79976b4",
   "metadata": {},
   "outputs": [],
   "source": [
    "cat_feat = ['Geography', 'Gender', 'HasCrCard', 'IsActiveMember']"
   ]
  },
  {
   "cell_type": "code",
   "execution_count": 56,
   "id": "22cd6754",
   "metadata": {},
   "outputs": [
    {
     "data": {
      "image/png": "[encoded data removed]",
      "text/plain": [
       "<Figure size 432x288 with 1 Axes>"
      ]
     },
     "metadata": {
      "needs_background": "light"
     },
     "output_type": "display_data"
    },
    {
     "data": {
      "image/png": "[encoded data removed]",
      "text/plain": [
       "<Figure size 432x288 with 1 Axes>"
      ]
     },
     "metadata": {
      "needs_background": "light"
     },
     "output_type": "display_data"
    },
    {
     "data": {
      "image/png": "[encoded data removed]",
      "text/plain": [
       "<Figure size 432x288 with 1 Axes>"
      ]
     },
     "metadata": {
      "needs_background": "light"
     },
     "output_type": "display_data"
    },
    {
     "data": {
      "image/png": "[encoded data removed]",
      "text/plain": [
       "<Figure size 432x288 with 1 Axes>"
      ]
     },
     "metadata": {
      "needs_background": "light"
     },
     "output_type": "display_data"
    }
   ],
   "source": [
    "for cols in cat_feat: \n",
    "    sns.barplot(x=df[cols], y=df['Exited'], fill=True, alpha=1, ci=None)\n",
    "    plt.show()"
   ]
  },
  {
   "cell_type": "markdown",
   "id": "4ac79ee9",
   "metadata": {},
   "source": [
    "## Transformation"
   ]
  },
  {
   "cell_type": "code",
   "execution_count": 57,
   "id": "c7bf263e",
   "metadata": {},
   "outputs": [],
   "source": [
    "# for col in cat_feat:\n",
    "#     dummy_cols = pd.get_dummies(df[col], drop_first=True, prefix=col)\n",
    "#     df = pd.concat([df,dummy_cols],axis=1)\n",
    "#     df.drop(columns=col, inplace=True)"
   ]
  },
  {
   "cell_type": "code",
   "execution_count": 58,
   "id": "0ff8915a",
   "metadata": {},
   "outputs": [
    {
     "data": {
      "text/html": [
       "<div>\n",
       "<style scoped>\n",
       "    .dataframe tbody tr th:only-of-type {\n",
       "        vertical-align: middle;\n",
       "    }\n",
       "\n",
       "    .dataframe tbody tr th {\n",
       "        vertical-align: top;\n",
       "    }\n",
       "\n",
       "    .dataframe thead th {\n",
       "        text-align: right;\n",
       "    }\n",
       "</style>\n",
       "<table border=\"1\" class=\"dataframe\">\n",
       "  <thead>\n",
       "    <tr style=\"text-align: right;\">\n",
       "      <th></th>\n",
       "      <th>CreditScore</th>\n",
       "      <th>Geography</th>\n",
       "      <th>Gender</th>\n",
       "      <th>Age</th>\n",
       "      <th>Tenure</th>\n",
       "      <th>Balance</th>\n",
       "      <th>NumOfProducts</th>\n",
       "      <th>HasCrCard</th>\n",
       "      <th>IsActiveMember</th>\n",
       "      <th>EstimatedSalary</th>\n",
       "      <th>Exited</th>\n",
       "    </tr>\n",
       "  </thead>\n",
       "  <tbody>\n",
       "    <tr>\n",
       "      <th>0</th>\n",
       "      <td>619</td>\n",
       "      <td>France</td>\n",
       "      <td>Female</td>\n",
       "      <td>42</td>\n",
       "      <td>2</td>\n",
       "      <td>0.00</td>\n",
       "      <td>1</td>\n",
       "      <td>1</td>\n",
       "      <td>1</td>\n",
       "      <td>101348.88</td>\n",
       "      <td>1</td>\n",
       "    </tr>\n",
       "    <tr>\n",
       "      <th>1</th>\n",
       "      <td>608</td>\n",
       "      <td>Spain</td>\n",
       "      <td>Female</td>\n",
       "      <td>41</td>\n",
       "      <td>1</td>\n",
       "      <td>83807.86</td>\n",
       "      <td>1</td>\n",
       "      <td>0</td>\n",
       "      <td>1</td>\n",
       "      <td>112542.58</td>\n",
       "      <td>0</td>\n",
       "    </tr>\n",
       "    <tr>\n",
       "      <th>2</th>\n",
       "      <td>502</td>\n",
       "      <td>France</td>\n",
       "      <td>Female</td>\n",
       "      <td>42</td>\n",
       "      <td>8</td>\n",
       "      <td>159660.80</td>\n",
       "      <td>3</td>\n",
       "      <td>1</td>\n",
       "      <td>0</td>\n",
       "      <td>113931.57</td>\n",
       "      <td>1</td>\n",
       "    </tr>\n",
       "    <tr>\n",
       "      <th>3</th>\n",
       "      <td>699</td>\n",
       "      <td>France</td>\n",
       "      <td>Female</td>\n",
       "      <td>39</td>\n",
       "      <td>1</td>\n",
       "      <td>0.00</td>\n",
       "      <td>2</td>\n",
       "      <td>0</td>\n",
       "      <td>0</td>\n",
       "      <td>93826.63</td>\n",
       "      <td>0</td>\n",
       "    </tr>\n",
       "    <tr>\n",
       "      <th>4</th>\n",
       "      <td>850</td>\n",
       "      <td>Spain</td>\n",
       "      <td>Female</td>\n",
       "      <td>43</td>\n",
       "      <td>2</td>\n",
       "      <td>125510.82</td>\n",
       "      <td>1</td>\n",
       "      <td>1</td>\n",
       "      <td>1</td>\n",
       "      <td>79084.10</td>\n",
       "      <td>0</td>\n",
       "    </tr>\n",
       "  </tbody>\n",
       "</table>\n",
       "</div>"
      ],
      "text/plain": [
       "   CreditScore Geography  Gender  Age  Tenure    Balance  NumOfProducts  \\\n",
       "0          619    France  Female   42       2       0.00              1   \n",
       "1          608     Spain  Female   41       1   83807.86              1   \n",
       "2          502    France  Female   42       8  159660.80              3   \n",
       "3          699    France  Female   39       1       0.00              2   \n",
       "4          850     Spain  Female   43       2  125510.82              1   \n",
       "\n",
       "   HasCrCard  IsActiveMember  EstimatedSalary  Exited  \n",
       "0          1               1        101348.88       1  \n",
       "1          0               1        112542.58       0  \n",
       "2          1               0        113931.57       1  \n",
       "3          0               0         93826.63       0  \n",
       "4          1               1         79084.10       0  "
      ]
     },
     "execution_count": 58,
     "metadata": {},
     "output_type": "execute_result"
    }
   ],
   "source": [
    "df.head()"
   ]
  },
  {
   "cell_type": "code",
   "execution_count": 59,
   "id": "0b1128e8",
   "metadata": {},
   "outputs": [],
   "source": [
    "df['Log_Age'] = np.log(df['Age'])"
   ]
  },
  {
   "cell_type": "code",
   "execution_count": 60,
   "id": "61c445a3",
   "metadata": {},
   "outputs": [],
   "source": [
    "df_final = df.drop(['Age'], axis=1)"
   ]
  },
  {
   "cell_type": "code",
   "execution_count": 61,
   "id": "4983953e",
   "metadata": {},
   "outputs": [
    {
     "data": {
      "text/html": [
       "<div>\n",
       "<style scoped>\n",
       "    .dataframe tbody tr th:only-of-type {\n",
       "        vertical-align: middle;\n",
       "    }\n",
       "\n",
       "    .dataframe tbody tr th {\n",
       "        vertical-align: top;\n",
       "    }\n",
       "\n",
       "    .dataframe thead th {\n",
       "        text-align: right;\n",
       "    }\n",
       "</style>\n",
       "<table border=\"1\" class=\"dataframe\">\n",
       "  <thead>\n",
       "    <tr style=\"text-align: right;\">\n",
       "      <th></th>\n",
       "      <th>CreditScore</th>\n",
       "      <th>Geography</th>\n",
       "      <th>Gender</th>\n",
       "      <th>Tenure</th>\n",
       "      <th>Balance</th>\n",
       "      <th>NumOfProducts</th>\n",
       "      <th>HasCrCard</th>\n",
       "      <th>IsActiveMember</th>\n",
       "      <th>EstimatedSalary</th>\n",
       "      <th>Exited</th>\n",
       "      <th>Log_Age</th>\n",
       "    </tr>\n",
       "  </thead>\n",
       "  <tbody>\n",
       "    <tr>\n",
       "      <th>0</th>\n",
       "      <td>619</td>\n",
       "      <td>France</td>\n",
       "      <td>Female</td>\n",
       "      <td>2</td>\n",
       "      <td>0.00</td>\n",
       "      <td>1</td>\n",
       "      <td>1</td>\n",
       "      <td>1</td>\n",
       "      <td>101348.88</td>\n",
       "      <td>1</td>\n",
       "      <td>3.737670</td>\n",
       "    </tr>\n",
       "    <tr>\n",
       "      <th>1</th>\n",
       "      <td>608</td>\n",
       "      <td>Spain</td>\n",
       "      <td>Female</td>\n",
       "      <td>1</td>\n",
       "      <td>83807.86</td>\n",
       "      <td>1</td>\n",
       "      <td>0</td>\n",
       "      <td>1</td>\n",
       "      <td>112542.58</td>\n",
       "      <td>0</td>\n",
       "      <td>3.713572</td>\n",
       "    </tr>\n",
       "    <tr>\n",
       "      <th>2</th>\n",
       "      <td>502</td>\n",
       "      <td>France</td>\n",
       "      <td>Female</td>\n",
       "      <td>8</td>\n",
       "      <td>159660.80</td>\n",
       "      <td>3</td>\n",
       "      <td>1</td>\n",
       "      <td>0</td>\n",
       "      <td>113931.57</td>\n",
       "      <td>1</td>\n",
       "      <td>3.737670</td>\n",
       "    </tr>\n",
       "    <tr>\n",
       "      <th>3</th>\n",
       "      <td>699</td>\n",
       "      <td>France</td>\n",
       "      <td>Female</td>\n",
       "      <td>1</td>\n",
       "      <td>0.00</td>\n",
       "      <td>2</td>\n",
       "      <td>0</td>\n",
       "      <td>0</td>\n",
       "      <td>93826.63</td>\n",
       "      <td>0</td>\n",
       "      <td>3.663562</td>\n",
       "    </tr>\n",
       "    <tr>\n",
       "      <th>4</th>\n",
       "      <td>850</td>\n",
       "      <td>Spain</td>\n",
       "      <td>Female</td>\n",
       "      <td>2</td>\n",
       "      <td>125510.82</td>\n",
       "      <td>1</td>\n",
       "      <td>1</td>\n",
       "      <td>1</td>\n",
       "      <td>79084.10</td>\n",
       "      <td>0</td>\n",
       "      <td>3.761200</td>\n",
       "    </tr>\n",
       "  </tbody>\n",
       "</table>\n",
       "</div>"
      ],
      "text/plain": [
       "   CreditScore Geography  Gender  Tenure    Balance  NumOfProducts  HasCrCard  \\\n",
       "0          619    France  Female       2       0.00              1          1   \n",
       "1          608     Spain  Female       1   83807.86              1          0   \n",
       "2          502    France  Female       8  159660.80              3          1   \n",
       "3          699    France  Female       1       0.00              2          0   \n",
       "4          850     Spain  Female       2  125510.82              1          1   \n",
       "\n",
       "   IsActiveMember  EstimatedSalary  Exited   Log_Age  \n",
       "0               1        101348.88       1  3.737670  \n",
       "1               1        112542.58       0  3.713572  \n",
       "2               0        113931.57       1  3.737670  \n",
       "3               0         93826.63       0  3.663562  \n",
       "4               1         79084.10       0  3.761200  "
      ]
     },
     "execution_count": 61,
     "metadata": {},
     "output_type": "execute_result"
    }
   ],
   "source": [
    "df_final.head()"
   ]
  },
  {
   "cell_type": "markdown",
   "id": "c70922eb",
   "metadata": {},
   "source": [
    "## Train Val Test Split"
   ]
  },
  {
   "cell_type": "code",
   "execution_count": 62,
   "id": "00d7124a",
   "metadata": {},
   "outputs": [],
   "source": [
    "y = df_final['Exited'].copy()\n",
    "X = df_final.drop(['Exited'], axis=1)"
   ]
  },
  {
   "cell_type": "code",
   "execution_count": 63,
   "id": "09951d0b",
   "metadata": {},
   "outputs": [],
   "source": [
    "#split dataset in training, validation and testing \n",
    "X_train, X_test, y_train, y_test = train_test_split(X, y, test_size = 0.4, random_state = 42)\n",
    "X_val, X_test, y_val, y_test = train_test_split(X_test, y_test, test_size = 0.5, random_state =42)"
   ]
  },
  {
   "cell_type": "code",
   "execution_count": 64,
   "id": "1cde6dc3",
   "metadata": {},
   "outputs": [
    {
     "data": {
      "text/html": [
       "<div>\n",
       "<style scoped>\n",
       "    .dataframe tbody tr th:only-of-type {\n",
       "        vertical-align: middle;\n",
       "    }\n",
       "\n",
       "    .dataframe tbody tr th {\n",
       "        vertical-align: top;\n",
       "    }\n",
       "\n",
       "    .dataframe thead th {\n",
       "        text-align: right;\n",
       "    }\n",
       "</style>\n",
       "<table border=\"1\" class=\"dataframe\">\n",
       "  <thead>\n",
       "    <tr style=\"text-align: right;\">\n",
       "      <th></th>\n",
       "      <th>CreditScore</th>\n",
       "      <th>Geography</th>\n",
       "      <th>Gender</th>\n",
       "      <th>Tenure</th>\n",
       "      <th>Balance</th>\n",
       "      <th>NumOfProducts</th>\n",
       "      <th>HasCrCard</th>\n",
       "      <th>IsActiveMember</th>\n",
       "      <th>EstimatedSalary</th>\n",
       "      <th>Log_Age</th>\n",
       "    </tr>\n",
       "  </thead>\n",
       "  <tbody>\n",
       "    <tr>\n",
       "      <th>9761</th>\n",
       "      <td>807</td>\n",
       "      <td>Germany</td>\n",
       "      <td>Female</td>\n",
       "      <td>1</td>\n",
       "      <td>72948.58</td>\n",
       "      <td>2</td>\n",
       "      <td>1</td>\n",
       "      <td>1</td>\n",
       "      <td>17355.36</td>\n",
       "      <td>4.094345</td>\n",
       "    </tr>\n",
       "    <tr>\n",
       "      <th>3159</th>\n",
       "      <td>834</td>\n",
       "      <td>France</td>\n",
       "      <td>Male</td>\n",
       "      <td>4</td>\n",
       "      <td>131254.81</td>\n",
       "      <td>1</td>\n",
       "      <td>1</td>\n",
       "      <td>0</td>\n",
       "      <td>20199.30</td>\n",
       "      <td>3.135494</td>\n",
       "    </tr>\n",
       "    <tr>\n",
       "      <th>1489</th>\n",
       "      <td>609</td>\n",
       "      <td>France</td>\n",
       "      <td>Female</td>\n",
       "      <td>8</td>\n",
       "      <td>141675.23</td>\n",
       "      <td>1</td>\n",
       "      <td>0</td>\n",
       "      <td>1</td>\n",
       "      <td>175664.25</td>\n",
       "      <td>3.663562</td>\n",
       "    </tr>\n",
       "    <tr>\n",
       "      <th>2987</th>\n",
       "      <td>676</td>\n",
       "      <td>Germany</td>\n",
       "      <td>Female</td>\n",
       "      <td>1</td>\n",
       "      <td>108348.66</td>\n",
       "      <td>1</td>\n",
       "      <td>0</td>\n",
       "      <td>0</td>\n",
       "      <td>60231.74</td>\n",
       "      <td>3.258097</td>\n",
       "    </tr>\n",
       "    <tr>\n",
       "      <th>812</th>\n",
       "      <td>516</td>\n",
       "      <td>Spain</td>\n",
       "      <td>Female</td>\n",
       "      <td>3</td>\n",
       "      <td>0.00</td>\n",
       "      <td>2</td>\n",
       "      <td>1</td>\n",
       "      <td>1</td>\n",
       "      <td>58685.59</td>\n",
       "      <td>3.496508</td>\n",
       "    </tr>\n",
       "  </tbody>\n",
       "</table>\n",
       "</div>"
      ],
      "text/plain": [
       "      CreditScore Geography  Gender  Tenure    Balance  NumOfProducts  \\\n",
       "9761          807   Germany  Female       1   72948.58              2   \n",
       "3159          834    France    Male       4  131254.81              1   \n",
       "1489          609    France  Female       8  141675.23              1   \n",
       "2987          676   Germany  Female       1  108348.66              1   \n",
       "812           516     Spain  Female       3       0.00              2   \n",
       "\n",
       "      HasCrCard  IsActiveMember  EstimatedSalary   Log_Age  \n",
       "9761          1               1         17355.36  4.094345  \n",
       "3159          1               0         20199.30  3.135494  \n",
       "1489          0               1        175664.25  3.663562  \n",
       "2987          0               0         60231.74  3.258097  \n",
       "812           1               1         58685.59  3.496508  "
      ]
     },
     "execution_count": 64,
     "metadata": {},
     "output_type": "execute_result"
    }
   ],
   "source": [
    "X_train.head()"
   ]
  },
  {
   "cell_type": "code",
   "execution_count": 65,
   "id": "ce17fa68",
   "metadata": {},
   "outputs": [
    {
     "data": {
      "text/plain": [
       "((6000, 10), (6000,))"
      ]
     },
     "execution_count": 65,
     "metadata": {},
     "output_type": "execute_result"
    }
   ],
   "source": [
    "X_train.shape, y_train.shape"
   ]
  },
  {
   "cell_type": "code",
   "execution_count": 66,
   "id": "6c211072",
   "metadata": {},
   "outputs": [
    {
     "data": {
      "text/plain": [
       "0    4773\n",
       "1    1227\n",
       "Name: Exited, dtype: int64"
      ]
     },
     "execution_count": 66,
     "metadata": {},
     "output_type": "execute_result"
    }
   ],
   "source": [
    "y_train.value_counts()"
   ]
  },
  {
   "cell_type": "code",
   "execution_count": 67,
   "id": "14654de9",
   "metadata": {},
   "outputs": [
    {
     "name": "stdout",
     "output_type": "stream",
     "text": [
      "0.6\n",
      "0.2\n",
      "0.2\n"
     ]
    }
   ],
   "source": [
    "for dataset in [y_train, y_val, y_test]:\n",
    "    print(round(len(dataset) / len(y), 2))"
   ]
  },
  {
   "cell_type": "markdown",
   "id": "fe12c466",
   "metadata": {},
   "source": [
    "### Mean Encoding"
   ]
  },
  {
   "cell_type": "code",
   "execution_count": 68,
   "id": "c3792f18",
   "metadata": {},
   "outputs": [
    {
     "data": {
      "text/plain": [
       "['Geography', 'Gender', 'HasCrCard', 'IsActiveMember']"
      ]
     },
     "execution_count": 68,
     "metadata": {},
     "output_type": "execute_result"
    }
   ],
   "source": [
    "cat_feat"
   ]
  },
  {
   "cell_type": "code",
   "execution_count": 69,
   "id": "a6ac6704",
   "metadata": {},
   "outputs": [],
   "source": [
    "y = 'Exited'\n",
    "X_train = X_train.join(y_train)\n",
    "for col in cat_feat:\n",
    "    target_mean = X_train.groupby(col)[y].mean()\n",
    "    X_val[col + '_enc'] = X_val[col].map(target_mean)\n",
    "    X_test[col + '_enc'] = X_test[col].map(target_mean)\n",
    "    \n",
    "    #global target mean\n",
    "    global_mean = X_train[y].mean()\n",
    "    \n",
    "    #mean encode title_raw with KFlod regularization\n",
    "    skf = KFold(n_splits = 7, shuffle = True, random_state = 100)\n",
    "    for train_ind, val_ind in skf.split(X_train):\n",
    "        X_tr, X_v = X_train.iloc[train_ind].copy(), X_train.iloc[val_ind].copy()\n",
    "        means = X_v[col].map(X_tr.groupby(col)[y].mean())\n",
    "        X_train.loc[X_train.index[val_ind], col+'_enc'] = means\n",
    "    #Fill title_raw_enc with target global mean\n",
    "    X_train[col+'_enc'].fillna(global_mean, inplace = True)\n",
    "    X_val[col+'_enc'].fillna(global_mean, inplace = True)\n",
    "    X_test[col+'_enc'].fillna(global_mean, inplace = True)"
   ]
  },
  {
   "cell_type": "code",
   "execution_count": 70,
   "id": "15b532a8",
   "metadata": {},
   "outputs": [],
   "source": [
    "#Drop col from X_train, X_val and X_test\n",
    "for col in cat_feat:\n",
    "    X_train.drop([col], axis = 1, inplace = True)\n",
    "    X_val.drop([col], axis = 1, inplace = True)\n",
    "    X_test.drop([col], axis = 1, inplace = True)"
   ]
  },
  {
   "cell_type": "code",
   "execution_count": 71,
   "id": "e0097d10",
   "metadata": {},
   "outputs": [],
   "source": [
    "#Drop Survived from X_train\n",
    "X_train.drop([y], axis = 1, inplace = True)"
   ]
  },
  {
   "cell_type": "code",
   "execution_count": 72,
   "id": "c27dc778",
   "metadata": {},
   "outputs": [
    {
     "data": {
      "text/html": [
       "<div>\n",
       "<style scoped>\n",
       "    .dataframe tbody tr th:only-of-type {\n",
       "        vertical-align: middle;\n",
       "    }\n",
       "\n",
       "    .dataframe tbody tr th {\n",
       "        vertical-align: top;\n",
       "    }\n",
       "\n",
       "    .dataframe thead th {\n",
       "        text-align: right;\n",
       "    }\n",
       "</style>\n",
       "<table border=\"1\" class=\"dataframe\">\n",
       "  <thead>\n",
       "    <tr style=\"text-align: right;\">\n",
       "      <th></th>\n",
       "      <th>CreditScore</th>\n",
       "      <th>Tenure</th>\n",
       "      <th>Balance</th>\n",
       "      <th>NumOfProducts</th>\n",
       "      <th>EstimatedSalary</th>\n",
       "      <th>Log_Age</th>\n",
       "      <th>Geography_enc</th>\n",
       "      <th>Gender_enc</th>\n",
       "      <th>HasCrCard_enc</th>\n",
       "      <th>IsActiveMember_enc</th>\n",
       "    </tr>\n",
       "  </thead>\n",
       "  <tbody>\n",
       "    <tr>\n",
       "      <th>9761</th>\n",
       "      <td>807</td>\n",
       "      <td>1</td>\n",
       "      <td>72948.58</td>\n",
       "      <td>2</td>\n",
       "      <td>17355.36</td>\n",
       "      <td>4.094345</td>\n",
       "      <td>0.326661</td>\n",
       "      <td>0.252276</td>\n",
       "      <td>0.199945</td>\n",
       "      <td>0.140543</td>\n",
       "    </tr>\n",
       "    <tr>\n",
       "      <th>3159</th>\n",
       "      <td>834</td>\n",
       "      <td>4</td>\n",
       "      <td>131254.81</td>\n",
       "      <td>1</td>\n",
       "      <td>20199.30</td>\n",
       "      <td>3.135494</td>\n",
       "      <td>0.161872</td>\n",
       "      <td>0.166903</td>\n",
       "      <td>0.199945</td>\n",
       "      <td>0.268163</td>\n",
       "    </tr>\n",
       "    <tr>\n",
       "      <th>1489</th>\n",
       "      <td>609</td>\n",
       "      <td>8</td>\n",
       "      <td>141675.23</td>\n",
       "      <td>1</td>\n",
       "      <td>175664.25</td>\n",
       "      <td>3.663562</td>\n",
       "      <td>0.167056</td>\n",
       "      <td>0.259678</td>\n",
       "      <td>0.225764</td>\n",
       "      <td>0.147158</td>\n",
       "    </tr>\n",
       "    <tr>\n",
       "      <th>2987</th>\n",
       "      <td>676</td>\n",
       "      <td>1</td>\n",
       "      <td>108348.66</td>\n",
       "      <td>1</td>\n",
       "      <td>60231.74</td>\n",
       "      <td>3.258097</td>\n",
       "      <td>0.332543</td>\n",
       "      <td>0.259678</td>\n",
       "      <td>0.225764</td>\n",
       "      <td>0.271923</td>\n",
       "    </tr>\n",
       "    <tr>\n",
       "      <th>812</th>\n",
       "      <td>516</td>\n",
       "      <td>3</td>\n",
       "      <td>0.00</td>\n",
       "      <td>2</td>\n",
       "      <td>58685.59</td>\n",
       "      <td>3.496508</td>\n",
       "      <td>0.168210</td>\n",
       "      <td>0.253846</td>\n",
       "      <td>0.202549</td>\n",
       "      <td>0.144141</td>\n",
       "    </tr>\n",
       "  </tbody>\n",
       "</table>\n",
       "</div>"
      ],
      "text/plain": [
       "      CreditScore  Tenure    Balance  NumOfProducts  EstimatedSalary  \\\n",
       "9761          807       1   72948.58              2         17355.36   \n",
       "3159          834       4  131254.81              1         20199.30   \n",
       "1489          609       8  141675.23              1        175664.25   \n",
       "2987          676       1  108348.66              1         60231.74   \n",
       "812           516       3       0.00              2         58685.59   \n",
       "\n",
       "       Log_Age  Geography_enc  Gender_enc  HasCrCard_enc  IsActiveMember_enc  \n",
       "9761  4.094345       0.326661    0.252276       0.199945            0.140543  \n",
       "3159  3.135494       0.161872    0.166903       0.199945            0.268163  \n",
       "1489  3.663562       0.167056    0.259678       0.225764            0.147158  \n",
       "2987  3.258097       0.332543    0.259678       0.225764            0.271923  \n",
       "812   3.496508       0.168210    0.253846       0.202549            0.144141  "
      ]
     },
     "execution_count": 72,
     "metadata": {},
     "output_type": "execute_result"
    }
   ],
   "source": [
    "X_train.head()"
   ]
  },
  {
   "cell_type": "markdown",
   "id": "da47ee2f",
   "metadata": {},
   "source": [
    "### Scaling"
   ]
  },
  {
   "cell_type": "code",
   "execution_count": 73,
   "id": "fd5cbc05",
   "metadata": {},
   "outputs": [],
   "source": [
    "scaler = MinMaxScaler()"
   ]
  },
  {
   "cell_type": "code",
   "execution_count": 74,
   "id": "a18246ce",
   "metadata": {},
   "outputs": [],
   "source": [
    "X_train = scaler.fit_transform(X_train)"
   ]
  },
  {
   "cell_type": "code",
   "execution_count": 75,
   "id": "36df021e",
   "metadata": {},
   "outputs": [],
   "source": [
    "X_val = scaler.transform(X_val)\n",
    "X_test = scaler.transform(X_test)"
   ]
  },
  {
   "cell_type": "code",
   "execution_count": 76,
   "id": "24b384d3",
   "metadata": {},
   "outputs": [
    {
     "data": {
      "text/plain": [
       "array([[0.914     , 0.1       , 0.29074984, 0.33333333, 0.08637799,\n",
       "        0.8684828 , 0.93498256, 0.92159923, 0.04661242, 0.03006993],\n",
       "       [0.968     , 0.4       , 0.52313993, 0.        , 0.10060618,\n",
       "        0.17681848, 0.03437817, 0.01739827, 0.04659557, 0.9446287 ]])"
      ]
     },
     "execution_count": 76,
     "metadata": {},
     "output_type": "execute_result"
    }
   ],
   "source": [
    "X_train[:2]"
   ]
  },
  {
   "cell_type": "markdown",
   "id": "3b99f9aa",
   "metadata": {},
   "source": [
    "## Smote"
   ]
  },
  {
   "cell_type": "code",
   "execution_count": 77,
   "id": "abe82aba",
   "metadata": {},
   "outputs": [],
   "source": [
    "sm = SMOTE(random_state = 100)"
   ]
  },
  {
   "cell_type": "code",
   "execution_count": 78,
   "id": "d5e92705",
   "metadata": {},
   "outputs": [],
   "source": [
    "X_train, y_train = sm.fit_resample(X_train, y_train)"
   ]
  },
  {
   "cell_type": "code",
   "execution_count": 79,
   "id": "22cfe56e",
   "metadata": {},
   "outputs": [
    {
     "data": {
      "text/plain": [
       "(10000, 12)"
      ]
     },
     "execution_count": 79,
     "metadata": {},
     "output_type": "execute_result"
    }
   ],
   "source": [
    "df.shape"
   ]
  },
  {
   "cell_type": "code",
   "execution_count": 80,
   "id": "02fd8802",
   "metadata": {},
   "outputs": [
    {
     "data": {
      "text/plain": [
       "(9546, 10)"
      ]
     },
     "execution_count": 80,
     "metadata": {},
     "output_type": "execute_result"
    }
   ],
   "source": [
    "pd.DataFrame(X_train).shape"
   ]
  },
  {
   "cell_type": "markdown",
   "id": "c60d13b6",
   "metadata": {},
   "source": [
    "## Training"
   ]
  },
  {
   "cell_type": "code",
   "execution_count": 81,
   "id": "65b85a54",
   "metadata": {},
   "outputs": [],
   "source": [
    "def evaluate_model(name, model, features, labels):\n",
    "    start = time()\n",
    "    pred = model.predict(features)\n",
    "    end = time()\n",
    "    auc_roc = round(roc_auc_score(labels, pred), 3)\n",
    "    precision = round(precision_score(labels, pred), 3)\n",
    "    recall = round(recall_score(labels, pred), 3)\n",
    "    print('{} -- \\tAUC_ROC: {} / Precision: {} / Recall: {} / Latency: {}ms'.format(name,\n",
    "                                                                                     auc_roc,\n",
    "                                                                                     precision,\n",
    "                                                                                     recall,\n",
    "                                                                                     round((end - start)*1000, 1)))\n",
    "    return auc_roc, precision, recall\n",
    "    "
   ]
  },
  {
   "cell_type": "markdown",
   "id": "9fa15b19",
   "metadata": {},
   "source": [
    "### Logistic Regression"
   ]
  },
  {
   "cell_type": "code",
   "execution_count": 133,
   "id": "e0bc0b73",
   "metadata": {},
   "outputs": [],
   "source": [
    "scores = []"
   ]
  },
  {
   "cell_type": "code",
   "execution_count": 83,
   "id": "1905eb60",
   "metadata": {},
   "outputs": [],
   "source": [
    "params = {\n",
    "    'C': [100, 10, 1.0, 0.1, 0.01]\n",
    "}"
   ]
  },
  {
   "cell_type": "code",
   "execution_count": 84,
   "id": "8be779d0",
   "metadata": {},
   "outputs": [
    {
     "data": {
      "text/plain": [
       "GridSearchCV(cv=10, estimator=LogisticRegression(max_iter=10000), n_jobs=-1,\n",
       "             param_grid={'C': [100, 10, 1.0, 0.1, 0.01]}, scoring='roc_auc')"
      ]
     },
     "execution_count": 84,
     "metadata": {},
     "output_type": "execute_result"
    }
   ],
   "source": [
    "LR = LogisticRegression(max_iter=10000)\n",
    "grid_LR = GridSearchCV(estimator=LR, param_grid=params, n_jobs=-1, cv=10, scoring='roc_auc')\n",
    "grid_LR.fit(X_train, y_train)"
   ]
  },
  {
   "cell_type": "code",
   "execution_count": 134,
   "id": "efa2dcfc",
   "metadata": {},
   "outputs": [
    {
     "name": "stdout",
     "output_type": "stream",
     "text": [
      "LR -- \tAUC_ROC: 0.712 / Precision: 0.709 / Recall: 0.719 / Latency: 1.0ms\n"
     ]
    }
   ],
   "source": [
    "train_auc_roc, train_precision, train_recall = evaluate_model('LR', grid_LR, X_train, y_train)"
   ]
  },
  {
   "cell_type": "code",
   "execution_count": 135,
   "id": "cfef57db",
   "metadata": {},
   "outputs": [
    {
     "name": "stdout",
     "output_type": "stream",
     "text": [
      "LR -- \tAUC_ROC: 0.697 / Precision: 0.346 / Recall: 0.708 / Latency: 1.0ms\n"
     ]
    }
   ],
   "source": [
    "val_auc_roc, val_precision, val_recall = evaluate_model('LR', grid_LR, X_val, y_val)"
   ]
  },
  {
   "cell_type": "code",
   "execution_count": 136,
   "id": "33abc54c",
   "metadata": {},
   "outputs": [
    {
     "name": "stdout",
     "output_type": "stream",
     "text": [
      "LR -- \tAUC_ROC: 0.718 / Precision: 0.402 / Recall: 0.735 / Latency: 0.0ms\n"
     ]
    }
   ],
   "source": [
    "test_auc_roc, test_precision, test_recall = evaluate_model('LR', grid_LR, X_test, y_test)"
   ]
  },
  {
   "cell_type": "code",
   "execution_count": 137,
   "id": "f190bbca",
   "metadata": {},
   "outputs": [],
   "source": [
    "model_name = 'Logistic Regression'\n",
    "\n",
    "scores.append({\n",
    "    'Model': model_name,\n",
    "    'Train AUC ROC': train_auc_roc,\n",
    "    'Val AUC ROC': val_auc_roc,\n",
    "    'Test AUC ROC Score': test_auc_roc,\n",
    "    'Test Precision': test_precision,\n",
    "    'Test Recall': test_recall\n",
    "})"
   ]
  },
  {
   "cell_type": "markdown",
   "id": "5307a3b6",
   "metadata": {},
   "source": [
    "### SVM"
   ]
  },
  {
   "cell_type": "code",
   "execution_count": 89,
   "id": "4c35b222",
   "metadata": {},
   "outputs": [],
   "source": [
    "from sklearn import svm"
   ]
  },
  {
   "cell_type": "code",
   "execution_count": 90,
   "id": "f8f9e331",
   "metadata": {},
   "outputs": [
    {
     "data": {
      "text/plain": [
       "SVC(gamma='auto', probability=True)"
      ]
     },
     "execution_count": 90,
     "metadata": {},
     "output_type": "execute_result"
    }
   ],
   "source": [
    "#Create a svm Classifier\n",
    "svm = svm.SVC(gamma = 'auto', probability=True)\n",
    "\n",
    "#Train the model using the training sets\n",
    "svm.fit(X_train, y_train)"
   ]
  },
  {
   "cell_type": "code",
   "execution_count": 91,
   "id": "caa74d4c",
   "metadata": {},
   "outputs": [
    {
     "name": "stdout",
     "output_type": "stream",
     "text": [
      "SVM -- \tAUC_ROC: 0.733 / Precision: 0.429 / Recall: 0.733 / Latency: 1219.3ms\n"
     ]
    },
    {
     "data": {
      "text/plain": [
       "(0.733, 0.429, 0.733)"
      ]
     },
     "execution_count": 91,
     "metadata": {},
     "output_type": "execute_result"
    }
   ],
   "source": [
    "evaluate_model('SVM', svm, X_test, y_test)"
   ]
  },
  {
   "cell_type": "code",
   "execution_count": 138,
   "id": "67e1cf51",
   "metadata": {},
   "outputs": [
    {
     "name": "stdout",
     "output_type": "stream",
     "text": [
      "svm -- \tAUC_ROC: 0.733 / Precision: 0.739 / Recall: 0.721 / Latency: 5929.1ms\n"
     ]
    }
   ],
   "source": [
    "train_auc_roc, train_precision, train_recall = evaluate_model('svm', svm, X_train, y_train)"
   ]
  },
  {
   "cell_type": "code",
   "execution_count": 139,
   "id": "8ff74930",
   "metadata": {},
   "outputs": [
    {
     "name": "stdout",
     "output_type": "stream",
     "text": [
      "svm -- \tAUC_ROC: 0.699 / Precision: 0.361 / Recall: 0.682 / Latency: 1215.0ms\n"
     ]
    }
   ],
   "source": [
    "val_auc_roc, val_precision, val_recall = evaluate_model('svm', svm, X_val, y_val)"
   ]
  },
  {
   "cell_type": "code",
   "execution_count": 140,
   "id": "c0413ec2",
   "metadata": {},
   "outputs": [
    {
     "name": "stdout",
     "output_type": "stream",
     "text": [
      "svm -- \tAUC_ROC: 0.733 / Precision: 0.429 / Recall: 0.733 / Latency: 1232.0ms\n"
     ]
    }
   ],
   "source": [
    "test_auc_roc, test_precision, test_recall = evaluate_model('svm', svm, X_test, y_test)"
   ]
  },
  {
   "cell_type": "code",
   "execution_count": 141,
   "id": "eaa4a192",
   "metadata": {},
   "outputs": [],
   "source": [
    "model_name = 'SVM'\n",
    "\n",
    "scores.append({\n",
    "    'Model': model_name,\n",
    "    'Train AUC ROC': train_auc_roc,\n",
    "    'Val AUC ROC': val_auc_roc,\n",
    "    'Test AUC ROC Score': test_auc_roc,\n",
    "    'Test Precision': test_precision,\n",
    "    'Test Recall': test_recall\n",
    "})"
   ]
  },
  {
   "cell_type": "markdown",
   "id": "c2616f63",
   "metadata": {},
   "source": [
    "### Decision Tree"
   ]
  },
  {
   "cell_type": "code",
   "execution_count": 96,
   "id": "36d016c3",
   "metadata": {},
   "outputs": [],
   "source": [
    "from sklearn.tree import DecisionTreeClassifier"
   ]
  },
  {
   "cell_type": "code",
   "execution_count": 97,
   "id": "b8406f67",
   "metadata": {},
   "outputs": [],
   "source": [
    "params = {\n",
    "    'max_depth': [2, 3, 5, 10, 20],\n",
    "    'min_samples_leaf': [5, 10, 20, 50, 100],\n",
    "    'criterion': [\"gini\", \"entropy\"]\n",
    "}"
   ]
  },
  {
   "cell_type": "code",
   "execution_count": 98,
   "id": "7e6b7c2b",
   "metadata": {},
   "outputs": [],
   "source": [
    "# DT = DecisionTreeClassifier()\n",
    "\n",
    "# # Train Decision Tree Classifer\n",
    "# DT = clf.fit(X_train,y_train)"
   ]
  },
  {
   "cell_type": "code",
   "execution_count": 99,
   "id": "b2bbc5be",
   "metadata": {},
   "outputs": [
    {
     "data": {
      "text/plain": [
       "GridSearchCV(cv=10, estimator=DecisionTreeClassifier(), n_jobs=-1,\n",
       "             param_grid={'criterion': ['gini', 'entropy'],\n",
       "                         'max_depth': [2, 3, 5, 10, 20],\n",
       "                         'min_samples_leaf': [5, 10, 20, 50, 100]},\n",
       "             scoring='roc_auc')"
      ]
     },
     "execution_count": 99,
     "metadata": {},
     "output_type": "execute_result"
    }
   ],
   "source": [
    "DT = DecisionTreeClassifier()\n",
    "grid_DT = GridSearchCV(estimator=DT, param_grid=params, n_jobs=-1, cv=10, scoring='roc_auc')\n",
    "grid_DT.fit(X_train, y_train)"
   ]
  },
  {
   "cell_type": "code",
   "execution_count": 142,
   "id": "2c8bc7a2",
   "metadata": {},
   "outputs": [
    {
     "name": "stdout",
     "output_type": "stream",
     "text": [
      "DT -- \tAUC_ROC: 0.88 / Precision: 0.897 / Recall: 0.858 / Latency: 2.0ms\n"
     ]
    }
   ],
   "source": [
    "train_auc_roc, train_precision, train_recall = evaluate_model('DT', grid_DT, X_train, y_train)"
   ]
  },
  {
   "cell_type": "code",
   "execution_count": 143,
   "id": "535ea9eb",
   "metadata": {},
   "outputs": [
    {
     "name": "stdout",
     "output_type": "stream",
     "text": [
      "DT -- \tAUC_ROC: 0.712 / Precision: 0.432 / Recall: 0.613 / Latency: 1.0ms\n"
     ]
    }
   ],
   "source": [
    "val_auc_roc, val_precision, val_recall = evaluate_model('DT', grid_DT, X_val, y_val)"
   ]
  },
  {
   "cell_type": "code",
   "execution_count": 144,
   "id": "924fa095",
   "metadata": {},
   "outputs": [
    {
     "name": "stdout",
     "output_type": "stream",
     "text": [
      "DT -- \tAUC_ROC: 0.734 / Precision: 0.491 / Recall: 0.653 / Latency: 0.0ms\n"
     ]
    }
   ],
   "source": [
    "test_auc_roc, test_precision, test_recall = evaluate_model('DT', grid_DT, X_test, y_test)"
   ]
  },
  {
   "cell_type": "code",
   "execution_count": 145,
   "id": "534813af",
   "metadata": {},
   "outputs": [],
   "source": [
    "model_name = 'DT'\n",
    "\n",
    "scores.append({\n",
    "    'Model': model_name,\n",
    "    'Train AUC ROC': train_auc_roc,\n",
    "    'Val AUC ROC': val_auc_roc,\n",
    "    'Test AUC ROC Score': test_auc_roc,\n",
    "    'Test Precision': test_precision,\n",
    "    'Test Recall': test_recall\n",
    "})"
   ]
  },
  {
   "cell_type": "markdown",
   "id": "7410120b",
   "metadata": {},
   "source": [
    "### Random Forest"
   ]
  },
  {
   "cell_type": "code",
   "execution_count": 104,
   "id": "bd155a73",
   "metadata": {},
   "outputs": [],
   "source": [
    "# xgb_model = XGBClassifier(random_state=100, use_label_encoder=False, n_jobs=-1)\n",
    "\n",
    "# xgb_model.fit(X_train, y_train)"
   ]
  },
  {
   "cell_type": "code",
   "execution_count": 105,
   "id": "0ff1ee1e",
   "metadata": {},
   "outputs": [],
   "source": [
    "params = {\n",
    "    'n_estimators': [2**i for i in range(3, 10)],\n",
    "    'max_depth': [2, 4, 8, 16, 32, 64, None],\n",
    "}"
   ]
  },
  {
   "cell_type": "code",
   "execution_count": 106,
   "id": "162094ba",
   "metadata": {},
   "outputs": [
    {
     "data": {
      "text/plain": [
       "GridSearchCV(cv=10, estimator=RandomForestClassifier(), n_jobs=-1,\n",
       "             param_grid={'max_depth': [2, 4, 8, 16, 32, 64, None],\n",
       "                         'n_estimators': [8, 16, 32, 64, 128, 256, 512]},\n",
       "             scoring='roc_auc')"
      ]
     },
     "execution_count": 106,
     "metadata": {},
     "output_type": "execute_result"
    }
   ],
   "source": [
    "RF = RandomForestClassifier()\n",
    "grid_RF = GridSearchCV(RF, params, cv = 10, scoring = 'roc_auc', n_jobs = -1)\n",
    "grid_RF.fit(X_train, y_train)"
   ]
  },
  {
   "cell_type": "code",
   "execution_count": 146,
   "id": "72a1e8c7",
   "metadata": {},
   "outputs": [
    {
     "name": "stdout",
     "output_type": "stream",
     "text": [
      "RF -- \tAUC_ROC: 1.0 / Precision: 1.0 / Recall: 1.0 / Latency: 626.0ms\n"
     ]
    }
   ],
   "source": [
    "train_auc_roc, train_precision, train_recall = evaluate_model('RF', grid_RF, X_train, y_train)"
   ]
  },
  {
   "cell_type": "code",
   "execution_count": 147,
   "id": "1fba77c1",
   "metadata": {},
   "outputs": [
    {
     "name": "stdout",
     "output_type": "stream",
     "text": [
      "RF -- \tAUC_ROC: 0.756 / Precision: 0.421 / Recall: 0.755 / Latency: 169.0ms\n"
     ]
    }
   ],
   "source": [
    "val_auc_roc, val_precision, val_recall = evaluate_model('RF', grid_RF, X_val, y_val)"
   ]
  },
  {
   "cell_type": "code",
   "execution_count": 148,
   "id": "8685eb05",
   "metadata": {},
   "outputs": [
    {
     "name": "stdout",
     "output_type": "stream",
     "text": [
      "RF -- \tAUC_ROC: 0.774 / Precision: 0.481 / Recall: 0.779 / Latency: 170.0ms\n"
     ]
    }
   ],
   "source": [
    "test_auc_roc, test_precision, test_recall = evaluate_model('RF', grid_RF, X_test, y_test)"
   ]
  },
  {
   "cell_type": "code",
   "execution_count": 149,
   "id": "642e3ee4",
   "metadata": {},
   "outputs": [],
   "source": [
    "model_name = 'RF'\n",
    "\n",
    "scores.append({\n",
    "    'Model': model_name,\n",
    "    'Train AUC ROC': train_auc_roc,\n",
    "    'Val AUC ROC': val_auc_roc,\n",
    "    'Test AUC ROC Score': test_auc_roc,\n",
    "    'Test Precision': test_precision,\n",
    "    'Test Recall': test_recall\n",
    "})"
   ]
  },
  {
   "cell_type": "markdown",
   "id": "867763eb",
   "metadata": {},
   "source": [
    "## XgBoost"
   ]
  },
  {
   "cell_type": "code",
   "execution_count": 111,
   "id": "d0c5be20",
   "metadata": {},
   "outputs": [],
   "source": [
    "params = {\n",
    "    'n_estimators': [2**i for i in range(3, 10)],\n",
    "    'learning_rate': np.arange(0.01, 0.1, 0.01),\n",
    "    'max_depth': np.arange(1, 10, 1),\n",
    "    'subsample': np.arange(0, 1.1, 0.1),\n",
    "    'min_child_weight': [1, 2, 3, 4, 5, 10, 50, 100],\n",
    "    'reg_alpha': [1, 2, 3, 4, 5, 10, 50, 100],\n",
    "    'reg_lambda':  [1, 2, 3, 4, 5, 10, 50, 100],\n",
    "    'colsample_bytree':  np.arange(0, 1.1, 0.1),\n",
    "    'colsample_bylevel':  np.arange(0, 1.1, 0.1),\n",
    "}"
   ]
  },
  {
   "cell_type": "code",
   "execution_count": 112,
   "id": "f3074771",
   "metadata": {},
   "outputs": [],
   "source": [
    "xgb = XGBClassifier(objective = 'binary:logistic')"
   ]
  },
  {
   "cell_type": "code",
   "execution_count": 113,
   "id": "be71541a",
   "metadata": {},
   "outputs": [
    {
     "data": {
      "text/plain": [
       "RandomizedSearchCV(cv=5,\n",
       "                   estimator=XGBClassifier(base_score=None, booster=None,\n",
       "                                           callbacks=None,\n",
       "                                           colsample_bylevel=None,\n",
       "                                           colsample_bynode=None,\n",
       "                                           colsample_bytree=None,\n",
       "                                           early_stopping_rounds=None,\n",
       "                                           enable_categorical=False,\n",
       "                                           eval_metric=None, gamma=None,\n",
       "                                           gpu_id=None, grow_policy=None,\n",
       "                                           importance_type=None,\n",
       "                                           interaction_constraints=None,\n",
       "                                           learning_rate=None, max_bin=None,...\n",
       "                                        'learning_rate': array([0.01, 0.02, 0.03, 0.04, 0.05, 0.06, 0.07, 0.08, 0.09]),\n",
       "                                        'max_depth': array([1, 2, 3, 4, 5, 6, 7, 8, 9]),\n",
       "                                        'min_child_weight': [1, 2, 3, 4, 5, 10,\n",
       "                                                             50, 100],\n",
       "                                        'n_estimators': [8, 16, 32, 64, 128,\n",
       "                                                         256, 512],\n",
       "                                        'reg_alpha': [1, 2, 3, 4, 5, 10, 50,\n",
       "                                                      100],\n",
       "                                        'reg_lambda': [1, 2, 3, 4, 5, 10, 50,\n",
       "                                                       100],\n",
       "                                        'subsample': array([0. , 0.1, 0.2, 0.3, 0.4, 0.5, 0.6, 0.7, 0.8, 0.9, 1. ])},\n",
       "                   random_state=10, scoring='roc_auc')"
      ]
     },
     "execution_count": 113,
     "metadata": {},
     "output_type": "execute_result"
    }
   ],
   "source": [
    "random_xgb = RandomizedSearchCV(xgb, params, cv = 5, scoring = 'roc_auc',\n",
    "                                 n_iter = 500, random_state = 10, return_train_score = False, n_jobs = -1)\n",
    "random_xgb.fit(X_train, y_train)"
   ]
  },
  {
   "cell_type": "code",
   "execution_count": 150,
   "id": "387e1546",
   "metadata": {},
   "outputs": [
    {
     "name": "stdout",
     "output_type": "stream",
     "text": [
      "XGB -- \tAUC_ROC: 0.945 / Precision: 0.968 / Recall: 0.921 / Latency: 34.0ms\n"
     ]
    }
   ],
   "source": [
    "train_auc_roc, train_precision, train_recall = evaluate_model('XGB', random_xgb, X_train, y_train)"
   ]
  },
  {
   "cell_type": "code",
   "execution_count": 151,
   "id": "6d7ce174",
   "metadata": {},
   "outputs": [
    {
     "name": "stdout",
     "output_type": "stream",
     "text": [
      "XGB -- \tAUC_ROC: 0.603 / Precision: 0.229 / Recall: 0.982 / Latency: 11.0ms\n"
     ]
    }
   ],
   "source": [
    "val_auc_roc, val_precision, val_recall = evaluate_model('XGB', random_xgb, X_val, y_val)"
   ]
  },
  {
   "cell_type": "code",
   "execution_count": 152,
   "id": "e9432ab2",
   "metadata": {},
   "outputs": [
    {
     "name": "stdout",
     "output_type": "stream",
     "text": [
      "XGB -- \tAUC_ROC: 0.594 / Precision: 0.254 / Recall: 0.953 / Latency: 9.0ms\n"
     ]
    }
   ],
   "source": [
    "test_auc_roc, test_precision, test_recall = evaluate_model('XGB', random_xgb, X_test, y_test)"
   ]
  },
  {
   "cell_type": "code",
   "execution_count": 153,
   "id": "910e304e",
   "metadata": {},
   "outputs": [],
   "source": [
    "model_name = 'XGB'\n",
    "\n",
    "scores.append({\n",
    "    'Model': model_name,\n",
    "    'Train AUC ROC': train_auc_roc,\n",
    "    'Val AUC ROC': val_auc_roc,\n",
    "    'Test AUC ROC Score': test_auc_roc,\n",
    "    'Test Precision': test_precision,\n",
    "    'Test Recall': test_recall\n",
    "})"
   ]
  },
  {
   "cell_type": "code",
   "execution_count": 154,
   "id": "33b9f35f",
   "metadata": {},
   "outputs": [
    {
     "data": {
      "text/html": [
       "<div>\n",
       "<style scoped>\n",
       "    .dataframe tbody tr th:only-of-type {\n",
       "        vertical-align: middle;\n",
       "    }\n",
       "\n",
       "    .dataframe tbody tr th {\n",
       "        vertical-align: top;\n",
       "    }\n",
       "\n",
       "    .dataframe thead th {\n",
       "        text-align: right;\n",
       "    }\n",
       "</style>\n",
       "<table border=\"1\" class=\"dataframe\">\n",
       "  <thead>\n",
       "    <tr style=\"text-align: right;\">\n",
       "      <th></th>\n",
       "      <th>Model</th>\n",
       "      <th>Train AUC ROC</th>\n",
       "      <th>Val AUC ROC</th>\n",
       "      <th>Test AUC ROC Score</th>\n",
       "      <th>Test Precision</th>\n",
       "      <th>Test Recall</th>\n",
       "    </tr>\n",
       "  </thead>\n",
       "  <tbody>\n",
       "    <tr>\n",
       "      <th>0</th>\n",
       "      <td>Logistic Regression</td>\n",
       "      <td>0.712</td>\n",
       "      <td>0.697</td>\n",
       "      <td>0.718</td>\n",
       "      <td>0.402</td>\n",
       "      <td>0.735</td>\n",
       "    </tr>\n",
       "    <tr>\n",
       "      <th>1</th>\n",
       "      <td>SVM</td>\n",
       "      <td>0.733</td>\n",
       "      <td>0.699</td>\n",
       "      <td>0.733</td>\n",
       "      <td>0.429</td>\n",
       "      <td>0.733</td>\n",
       "    </tr>\n",
       "    <tr>\n",
       "      <th>2</th>\n",
       "      <td>DT</td>\n",
       "      <td>0.880</td>\n",
       "      <td>0.712</td>\n",
       "      <td>0.734</td>\n",
       "      <td>0.491</td>\n",
       "      <td>0.653</td>\n",
       "    </tr>\n",
       "    <tr>\n",
       "      <th>3</th>\n",
       "      <td>RF</td>\n",
       "      <td>1.000</td>\n",
       "      <td>0.756</td>\n",
       "      <td>0.774</td>\n",
       "      <td>0.481</td>\n",
       "      <td>0.779</td>\n",
       "    </tr>\n",
       "    <tr>\n",
       "      <th>4</th>\n",
       "      <td>XGB</td>\n",
       "      <td>0.945</td>\n",
       "      <td>0.603</td>\n",
       "      <td>0.594</td>\n",
       "      <td>0.254</td>\n",
       "      <td>0.953</td>\n",
       "    </tr>\n",
       "  </tbody>\n",
       "</table>\n",
       "</div>"
      ],
      "text/plain": [
       "                 Model  Train AUC ROC  Val AUC ROC  Test AUC ROC Score  \\\n",
       "0  Logistic Regression          0.712        0.697               0.718   \n",
       "1                  SVM          0.733        0.699               0.733   \n",
       "2                   DT          0.880        0.712               0.734   \n",
       "3                   RF          1.000        0.756               0.774   \n",
       "4                  XGB          0.945        0.603               0.594   \n",
       "\n",
       "   Test Precision  Test Recall  \n",
       "0           0.402        0.735  \n",
       "1           0.429        0.733  \n",
       "2           0.491        0.653  \n",
       "3           0.481        0.779  \n",
       "4           0.254        0.953  "
      ]
     },
     "execution_count": 154,
     "metadata": {},
     "output_type": "execute_result"
    }
   ],
   "source": [
    "pd.DataFrame(scores)"
   ]
  },
  {
   "cell_type": "code",
   "execution_count": 155,
   "id": "ecf07079",
   "metadata": {},
   "outputs": [
    {
     "data": {
      "text/html": [
       "<div>\n",
       "<style scoped>\n",
       "    .dataframe tbody tr th:only-of-type {\n",
       "        vertical-align: middle;\n",
       "    }\n",
       "\n",
       "    .dataframe tbody tr th {\n",
       "        vertical-align: top;\n",
       "    }\n",
       "\n",
       "    .dataframe thead th {\n",
       "        text-align: right;\n",
       "    }\n",
       "</style>\n",
       "<table border=\"1\" class=\"dataframe\">\n",
       "  <thead>\n",
       "    <tr style=\"text-align: right;\">\n",
       "      <th></th>\n",
       "      <th>Model</th>\n",
       "      <th>Train AUC ROC</th>\n",
       "      <th>Val AUC ROC</th>\n",
       "      <th>Test AUC ROC Score</th>\n",
       "      <th>Test Precision</th>\n",
       "      <th>Test Recall</th>\n",
       "    </tr>\n",
       "  </thead>\n",
       "  <tbody>\n",
       "    <tr>\n",
       "      <th>0</th>\n",
       "      <td>Logistic Regression</td>\n",
       "      <td>0.712</td>\n",
       "      <td>0.697</td>\n",
       "      <td>0.718</td>\n",
       "      <td>0.402</td>\n",
       "      <td>0.735</td>\n",
       "    </tr>\n",
       "    <tr>\n",
       "      <th>1</th>\n",
       "      <td>SVM</td>\n",
       "      <td>0.733</td>\n",
       "      <td>0.699</td>\n",
       "      <td>0.733</td>\n",
       "      <td>0.429</td>\n",
       "      <td>0.733</td>\n",
       "    </tr>\n",
       "    <tr>\n",
       "      <th>2</th>\n",
       "      <td>DT</td>\n",
       "      <td>0.880</td>\n",
       "      <td>0.712</td>\n",
       "      <td>0.734</td>\n",
       "      <td>0.491</td>\n",
       "      <td>0.653</td>\n",
       "    </tr>\n",
       "    <tr>\n",
       "      <th>3</th>\n",
       "      <td>RF</td>\n",
       "      <td>1.000</td>\n",
       "      <td>0.756</td>\n",
       "      <td>0.774</td>\n",
       "      <td>0.481</td>\n",
       "      <td>0.779</td>\n",
       "    </tr>\n",
       "    <tr>\n",
       "      <th>4</th>\n",
       "      <td>XGB</td>\n",
       "      <td>0.945</td>\n",
       "      <td>0.603</td>\n",
       "      <td>0.594</td>\n",
       "      <td>0.254</td>\n",
       "      <td>0.953</td>\n",
       "    </tr>\n",
       "  </tbody>\n",
       "</table>\n",
       "</div>"
      ],
      "text/plain": [
       "                 Model  Train AUC ROC  Val AUC ROC  Test AUC ROC Score  \\\n",
       "0  Logistic Regression          0.712        0.697               0.718   \n",
       "1                  SVM          0.733        0.699               0.733   \n",
       "2                   DT          0.880        0.712               0.734   \n",
       "3                   RF          1.000        0.756               0.774   \n",
       "4                  XGB          0.945        0.603               0.594   \n",
       "\n",
       "   Test Precision  Test Recall  \n",
       "0           0.402        0.735  \n",
       "1           0.429        0.733  \n",
       "2           0.491        0.653  \n",
       "3           0.481        0.779  \n",
       "4           0.254        0.953  "
      ]
     },
     "execution_count": 155,
     "metadata": {},
     "output_type": "execute_result"
    }
   ],
   "source": [
    "pd.DataFrame(scores)"
   ]
  },
  {
   "cell_type": "code",
   "execution_count": 157,
   "id": "bfa96997",
   "metadata": {},
   "outputs": [],
   "source": [
    "def cal_f1_score(precision, recall):\n",
    "    return round(2 * (precision * recall)/(precision + recall), 3)\n",
    "\n",
    "results = pd.DataFrame(scores)\n",
    "results['Test F1 Score'] = cal_f1_score(results['Test Precision'], results['Test Recall'])"
   ]
  },
  {
   "cell_type": "code",
   "execution_count": 158,
   "id": "db5fb715",
   "metadata": {},
   "outputs": [
    {
     "data": {
      "text/html": [
       "<div>\n",
       "<style scoped>\n",
       "    .dataframe tbody tr th:only-of-type {\n",
       "        vertical-align: middle;\n",
       "    }\n",
       "\n",
       "    .dataframe tbody tr th {\n",
       "        vertical-align: top;\n",
       "    }\n",
       "\n",
       "    .dataframe thead th {\n",
       "        text-align: right;\n",
       "    }\n",
       "</style>\n",
       "<table border=\"1\" class=\"dataframe\">\n",
       "  <thead>\n",
       "    <tr style=\"text-align: right;\">\n",
       "      <th></th>\n",
       "      <th>Model</th>\n",
       "      <th>Train AUC ROC</th>\n",
       "      <th>Val AUC ROC</th>\n",
       "      <th>Test AUC ROC Score</th>\n",
       "      <th>Test Precision</th>\n",
       "      <th>Test Recall</th>\n",
       "      <th>Test F1 Score</th>\n",
       "    </tr>\n",
       "  </thead>\n",
       "  <tbody>\n",
       "    <tr>\n",
       "      <th>0</th>\n",
       "      <td>Logistic Regression</td>\n",
       "      <td>0.712</td>\n",
       "      <td>0.697</td>\n",
       "      <td>0.718</td>\n",
       "      <td>0.402</td>\n",
       "      <td>0.735</td>\n",
       "      <td>0.520</td>\n",
       "    </tr>\n",
       "    <tr>\n",
       "      <th>1</th>\n",
       "      <td>SVM</td>\n",
       "      <td>0.733</td>\n",
       "      <td>0.699</td>\n",
       "      <td>0.733</td>\n",
       "      <td>0.429</td>\n",
       "      <td>0.733</td>\n",
       "      <td>0.541</td>\n",
       "    </tr>\n",
       "    <tr>\n",
       "      <th>2</th>\n",
       "      <td>DT</td>\n",
       "      <td>0.880</td>\n",
       "      <td>0.712</td>\n",
       "      <td>0.734</td>\n",
       "      <td>0.491</td>\n",
       "      <td>0.653</td>\n",
       "      <td>0.561</td>\n",
       "    </tr>\n",
       "    <tr>\n",
       "      <th>3</th>\n",
       "      <td>RF</td>\n",
       "      <td>1.000</td>\n",
       "      <td>0.756</td>\n",
       "      <td>0.774</td>\n",
       "      <td>0.481</td>\n",
       "      <td>0.779</td>\n",
       "      <td>0.595</td>\n",
       "    </tr>\n",
       "    <tr>\n",
       "      <th>4</th>\n",
       "      <td>XGB</td>\n",
       "      <td>0.945</td>\n",
       "      <td>0.603</td>\n",
       "      <td>0.594</td>\n",
       "      <td>0.254</td>\n",
       "      <td>0.953</td>\n",
       "      <td>0.401</td>\n",
       "    </tr>\n",
       "  </tbody>\n",
       "</table>\n",
       "</div>"
      ],
      "text/plain": [
       "                 Model  Train AUC ROC  Val AUC ROC  Test AUC ROC Score  \\\n",
       "0  Logistic Regression          0.712        0.697               0.718   \n",
       "1                  SVM          0.733        0.699               0.733   \n",
       "2                   DT          0.880        0.712               0.734   \n",
       "3                   RF          1.000        0.756               0.774   \n",
       "4                  XGB          0.945        0.603               0.594   \n",
       "\n",
       "   Test Precision  Test Recall  Test F1 Score  \n",
       "0           0.402        0.735          0.520  \n",
       "1           0.429        0.733          0.541  \n",
       "2           0.491        0.653          0.561  \n",
       "3           0.481        0.779          0.595  \n",
       "4           0.254        0.953          0.401  "
      ]
     },
     "execution_count": 158,
     "metadata": {},
     "output_type": "execute_result"
    }
   ],
   "source": [
    "results"
   ]
  }
 ],
 "metadata": {
  "kernelspec": {
   "display_name": "Python 3",
   "language": "python",
   "name": "python3"
  },
  "language_info": {
   "codemirror_mode": {
    "name": "ipython",
    "version": 3
   },
   "file_extension": ".py",
   "mimetype": "text/x-python",
   "name": "python",
   "nbconvert_exporter": "python",
   "pygments_lexer": "ipython3",
   "version": "3.8.8"
  }
 },
 "nbformat": 4,
 "nbformat_minor": 5
}
