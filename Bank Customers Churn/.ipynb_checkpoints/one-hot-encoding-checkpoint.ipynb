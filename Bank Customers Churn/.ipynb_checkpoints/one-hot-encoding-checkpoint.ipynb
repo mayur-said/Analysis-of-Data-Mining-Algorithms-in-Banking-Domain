{
 "cells": [
  {
   "cell_type": "code",
   "execution_count": 2,
   "id": "52826cc2",
   "metadata": {},
   "outputs": [],
   "source": [
    "import numpy as np\n",
    "import pandas as pd\n",
    "import matplotlib.pyplot as plt\n",
    "import seaborn as sns\n",
    "from scipy.stats import boxcox\n",
    "from sklearn.model_selection import train_test_split\n",
    "from sklearn.model_selection import KFold\n",
    "from sklearn.preprocessing import MinMaxScaler\n",
    "from sklearn.compose import ColumnTransformer\n",
    "from sklearn.linear_model import LogisticRegression\n",
    "from sklearn.ensemble import RandomForestClassifier\n",
    "from imblearn.over_sampling import SMOTE\n",
    "from xgboost import XGBClassifier\n",
    "from sklearn.model_selection import RandomizedSearchCV\n",
    "from sklearn.model_selection import GridSearchCV\n",
    "from sklearn.model_selection import RepeatedStratifiedKFold\n",
    "from time import time\n",
    "from sklearn.metrics import accuracy_score, precision_score, recall_score\n",
    "from sklearn.metrics import roc_auc_score\n",
    "from sklearn.model_selection import StratifiedShuffleSplit"
   ]
  },
  {
   "cell_type": "code",
   "execution_count": 3,
   "id": "77167a12",
   "metadata": {},
   "outputs": [],
   "source": [
    "pd.set_option('display.max_rows', None, 'display.max_columns', None)"
   ]
  },
  {
   "cell_type": "code",
   "execution_count": 4,
   "id": "ed6e6672",
   "metadata": {},
   "outputs": [],
   "source": [
    "df = pd.read_csv('Churn Modeling.csv')"
   ]
  },
  {
   "cell_type": "code",
   "execution_count": 5,
   "id": "d918a180",
   "metadata": {},
   "outputs": [
    {
     "data": {
      "text/html": [
       "<div>\n",
       "<style scoped>\n",
       "    .dataframe tbody tr th:only-of-type {\n",
       "        vertical-align: middle;\n",
       "    }\n",
       "\n",
       "    .dataframe tbody tr th {\n",
       "        vertical-align: top;\n",
       "    }\n",
       "\n",
       "    .dataframe thead th {\n",
       "        text-align: right;\n",
       "    }\n",
       "</style>\n",
       "<table border=\"1\" class=\"dataframe\">\n",
       "  <thead>\n",
       "    <tr style=\"text-align: right;\">\n",
       "      <th></th>\n",
       "      <th>RowNumber</th>\n",
       "      <th>CustomerId</th>\n",
       "      <th>Surname</th>\n",
       "      <th>CreditScore</th>\n",
       "      <th>Geography</th>\n",
       "      <th>Gender</th>\n",
       "      <th>Age</th>\n",
       "      <th>Tenure</th>\n",
       "      <th>Balance</th>\n",
       "      <th>NumOfProducts</th>\n",
       "      <th>HasCrCard</th>\n",
       "      <th>IsActiveMember</th>\n",
       "      <th>EstimatedSalary</th>\n",
       "      <th>Exited</th>\n",
       "    </tr>\n",
       "  </thead>\n",
       "  <tbody>\n",
       "    <tr>\n",
       "      <th>0</th>\n",
       "      <td>1</td>\n",
       "      <td>15634602</td>\n",
       "      <td>Hargrave</td>\n",
       "      <td>619</td>\n",
       "      <td>France</td>\n",
       "      <td>Female</td>\n",
       "      <td>42</td>\n",
       "      <td>2</td>\n",
       "      <td>0.00</td>\n",
       "      <td>1</td>\n",
       "      <td>1</td>\n",
       "      <td>1</td>\n",
       "      <td>101348.88</td>\n",
       "      <td>1</td>\n",
       "    </tr>\n",
       "    <tr>\n",
       "      <th>1</th>\n",
       "      <td>2</td>\n",
       "      <td>15647311</td>\n",
       "      <td>Hill</td>\n",
       "      <td>608</td>\n",
       "      <td>Spain</td>\n",
       "      <td>Female</td>\n",
       "      <td>41</td>\n",
       "      <td>1</td>\n",
       "      <td>83807.86</td>\n",
       "      <td>1</td>\n",
       "      <td>0</td>\n",
       "      <td>1</td>\n",
       "      <td>112542.58</td>\n",
       "      <td>0</td>\n",
       "    </tr>\n",
       "    <tr>\n",
       "      <th>2</th>\n",
       "      <td>3</td>\n",
       "      <td>15619304</td>\n",
       "      <td>Onio</td>\n",
       "      <td>502</td>\n",
       "      <td>France</td>\n",
       "      <td>Female</td>\n",
       "      <td>42</td>\n",
       "      <td>8</td>\n",
       "      <td>159660.80</td>\n",
       "      <td>3</td>\n",
       "      <td>1</td>\n",
       "      <td>0</td>\n",
       "      <td>113931.57</td>\n",
       "      <td>1</td>\n",
       "    </tr>\n",
       "    <tr>\n",
       "      <th>3</th>\n",
       "      <td>4</td>\n",
       "      <td>15701354</td>\n",
       "      <td>Boni</td>\n",
       "      <td>699</td>\n",
       "      <td>France</td>\n",
       "      <td>Female</td>\n",
       "      <td>39</td>\n",
       "      <td>1</td>\n",
       "      <td>0.00</td>\n",
       "      <td>2</td>\n",
       "      <td>0</td>\n",
       "      <td>0</td>\n",
       "      <td>93826.63</td>\n",
       "      <td>0</td>\n",
       "    </tr>\n",
       "    <tr>\n",
       "      <th>4</th>\n",
       "      <td>5</td>\n",
       "      <td>15737888</td>\n",
       "      <td>Mitchell</td>\n",
       "      <td>850</td>\n",
       "      <td>Spain</td>\n",
       "      <td>Female</td>\n",
       "      <td>43</td>\n",
       "      <td>2</td>\n",
       "      <td>125510.82</td>\n",
       "      <td>1</td>\n",
       "      <td>1</td>\n",
       "      <td>1</td>\n",
       "      <td>79084.10</td>\n",
       "      <td>0</td>\n",
       "    </tr>\n",
       "  </tbody>\n",
       "</table>\n",
       "</div>"
      ],
      "text/plain": [
       "   RowNumber  CustomerId   Surname  CreditScore Geography  Gender  Age  \\\n",
       "0          1    15634602  Hargrave          619    France  Female   42   \n",
       "1          2    15647311      Hill          608     Spain  Female   41   \n",
       "2          3    15619304      Onio          502    France  Female   42   \n",
       "3          4    15701354      Boni          699    France  Female   39   \n",
       "4          5    15737888  Mitchell          850     Spain  Female   43   \n",
       "\n",
       "   Tenure    Balance  NumOfProducts  HasCrCard  IsActiveMember  \\\n",
       "0       2       0.00              1          1               1   \n",
       "1       1   83807.86              1          0               1   \n",
       "2       8  159660.80              3          1               0   \n",
       "3       1       0.00              2          0               0   \n",
       "4       2  125510.82              1          1               1   \n",
       "\n",
       "   EstimatedSalary  Exited  \n",
       "0        101348.88       1  \n",
       "1        112542.58       0  \n",
       "2        113931.57       1  \n",
       "3         93826.63       0  \n",
       "4         79084.10       0  "
      ]
     },
     "execution_count": 5,
     "metadata": {},
     "output_type": "execute_result"
    }
   ],
   "source": [
    "df.head()"
   ]
  },
  {
   "cell_type": "code",
   "execution_count": 6,
   "id": "bfc2d643",
   "metadata": {},
   "outputs": [
    {
     "data": {
      "text/plain": [
       "(10000, 14)"
      ]
     },
     "execution_count": 6,
     "metadata": {},
     "output_type": "execute_result"
    }
   ],
   "source": [
    "df.shape"
   ]
  },
  {
   "cell_type": "code",
   "execution_count": 7,
   "id": "08f69d43",
   "metadata": {},
   "outputs": [],
   "source": [
    "df.drop(['RowNumber', 'CustomerId', 'Surname'], axis=1, inplace=True)"
   ]
  },
  {
   "cell_type": "code",
   "execution_count": 8,
   "id": "a03c24b7",
   "metadata": {},
   "outputs": [
    {
     "data": {
      "text/plain": [
       "0    7963\n",
       "1    2037\n",
       "Name: Exited, dtype: int64"
      ]
     },
     "execution_count": 8,
     "metadata": {},
     "output_type": "execute_result"
    }
   ],
   "source": [
    "df['Exited'].value_counts()"
   ]
  },
  {
   "cell_type": "markdown",
   "id": "ec7db281",
   "metadata": {},
   "source": [
    "## Continuous Feature"
   ]
  },
  {
   "cell_type": "code",
   "execution_count": 9,
   "id": "7f57ff1d",
   "metadata": {},
   "outputs": [],
   "source": [
    "cont_feat = ['CreditScore', 'Age', 'Tenure', 'Balance', 'NumOfProducts', 'EstimatedSalary']"
   ]
  },
  {
   "cell_type": "code",
   "execution_count": 10,
   "id": "4b905ac1",
   "metadata": {},
   "outputs": [],
   "source": [
    "def describe_cont_feature(feature):\n",
    "    print('\\n*** Results for {} ***'.format(feature))\n",
    "    print(df.groupby('Exited')[feature].describe())"
   ]
  },
  {
   "cell_type": "code",
   "execution_count": 11,
   "id": "b01a6c2a",
   "metadata": {},
   "outputs": [
    {
     "name": "stdout",
     "output_type": "stream",
     "text": [
      "\n",
      "*** Results for CreditScore ***\n",
      "         count        mean         std    min    25%    50%    75%    max\n",
      "Exited                                                                   \n",
      "0       7963.0  651.853196   95.653837  405.0  585.0  653.0  718.0  850.0\n",
      "1       2037.0  645.351497  100.321503  350.0  578.0  646.0  716.0  850.0\n",
      "\n",
      "*** Results for Age ***\n",
      "         count       mean        std   min   25%   50%   75%   max\n",
      "Exited                                                            \n",
      "0       7963.0  37.408389  10.125363  18.0  31.0  36.0  41.0  92.0\n",
      "1       2037.0  44.837997   9.761562  18.0  38.0  45.0  51.0  84.0\n",
      "\n",
      "*** Results for Tenure ***\n",
      "         count      mean       std  min  25%  50%  75%   max\n",
      "Exited                                                      \n",
      "0       7963.0  5.033279  2.880658  0.0  3.0  5.0  7.0  10.0\n",
      "1       2037.0  4.932744  2.936106  0.0  2.0  5.0  8.0  10.0\n",
      "\n",
      "*** Results for Balance ***\n",
      "         count          mean           std  min       25%        50%  \\\n",
      "Exited                                                                 \n",
      "0       7963.0  72745.296779  62848.040701  0.0      0.00   92072.68   \n",
      "1       2037.0  91108.539337  58360.794816  0.0  38340.02  109349.29   \n",
      "\n",
      "              75%        max  \n",
      "Exited                        \n",
      "0       126410.28  221532.80  \n",
      "1       131433.33  250898.09  \n",
      "\n",
      "*** Results for NumOfProducts ***\n",
      "         count      mean       std  min  25%  50%  75%  max\n",
      "Exited                                                     \n",
      "0       7963.0  1.544267  0.509536  1.0  1.0  2.0  2.0  3.0\n",
      "1       2037.0  1.475209  0.801521  1.0  1.0  1.0  2.0  4.0\n",
      "\n",
      "*** Results for EstimatedSalary ***\n",
      "         count           mean           std    min       25%        50%  \\\n",
      "Exited                                                                    \n",
      "0       7963.0   99738.391772  57405.586966  90.07  50783.49   99645.04   \n",
      "1       2037.0  101465.677531  57912.418071  11.58  51907.72  102460.84   \n",
      "\n",
      "               75%        max  \n",
      "Exited                         \n",
      "0       148609.955  199992.48  \n",
      "1       152422.910  199808.10  \n"
     ]
    }
   ],
   "source": [
    "for feat in cont_feat:\n",
    "    describe_cont_feature(feat)"
   ]
  },
  {
   "cell_type": "code",
   "execution_count": 12,
   "id": "7c687121",
   "metadata": {
    "scrolled": false
   },
   "outputs": [
    {
     "data": {
      "image/png": "[encoded data removed]",
      "text/plain": [
       "<Figure size 720x360 with 2 Axes>"
      ]
     },
     "metadata": {
      "needs_background": "light"
     },
     "output_type": "display_data"
    },
    {
     "data": {
      "image/png": "[encoded data removed]",
      "text/plain": [
       "<Figure size 720x360 with 2 Axes>"
      ]
     },
     "metadata": {
      "needs_background": "light"
     },
     "output_type": "display_data"
    },
    {
     "data": {
      "image/png": "[encoded data removed]",
      "text/plain": [
       "<Figure size 720x360 with 2 Axes>"
      ]
     },
     "metadata": {
      "needs_background": "light"
     },
     "output_type": "display_data"
    },
    {
     "data": {
      "image/png": "[encoded data removed]",
      "text/plain": [
       "<Figure size 720x360 with 2 Axes>"
      ]
     },
     "metadata": {
      "needs_background": "light"
     },
     "output_type": "display_data"
    },
    {
     "data": {
      "image/png": "[encoded data removed]",
      "text/plain": [
       "<Figure size 720x360 with 2 Axes>"
      ]
     },
     "metadata": {
      "needs_background": "light"
     },
     "output_type": "display_data"
    },
    {
     "data": {
      "image/png": "[encoded data removed]",
      "text/plain": [
       "<Figure size 720x360 with 2 Axes>"
      ]
     },
     "metadata": {
      "needs_background": "light"
     },
     "output_type": "display_data"
    }
   ],
   "source": [
    "for col in cont_feat:\n",
    "    f, ax = plt.subplots(1, 2, figsize = (10, 5))\n",
    "    sns.histplot(data = df, hue = 'Exited', x = col, ax=ax[0])\n",
    "    sns.boxplot(x='Exited',y=col, data=df, ax=ax[1])\n",
    "    plt.show()"
   ]
  },
  {
   "cell_type": "code",
   "execution_count": 13,
   "id": "87dc0c78",
   "metadata": {},
   "outputs": [],
   "source": [
    "def detect_outliers(feature):\n",
    "    outliers = []\n",
    "    data = df[feature]\n",
    "    mean = np.mean(data)\n",
    "    std = np.std(data)\n",
    "    \n",
    "    for y in data:\n",
    "        z_score = (y - mean) / std\n",
    "        if np.abs(z_score) > 3:\n",
    "            outliers.append(y)\n",
    "    print('\\n Outliers caps for {}: '.format(feature))\n",
    "    print('  --95p: {:.1f} / {} values exceed that'.format(data.quantile(.95),\n",
    "                                                          len([i for i in data if i > data.quantile(.95)])))\n",
    "    print('  --3sd: {:.1f} / {} values exceed that'.format(mean + 3 * std, len(outliers)))\n",
    "    print('  --99p: {:.1f} / {} values exceed that'.format(data.quantile(.99), \n",
    "                                                          len([i for i in data if i > data.quantile(.99)])))"
   ]
  },
  {
   "cell_type": "code",
   "execution_count": 14,
   "id": "07135bc3",
   "metadata": {},
   "outputs": [],
   "source": [
    "# for feat in cont_feat:\n",
    "#     detect_outliers(feat)"
   ]
  },
  {
   "cell_type": "markdown",
   "id": "a3b248b5",
   "metadata": {},
   "source": [
    "### Remove Outiers"
   ]
  },
  {
   "cell_type": "code",
   "execution_count": 15,
   "id": "f0f1c3e7",
   "metadata": {},
   "outputs": [],
   "source": [
    "df['Age'].clip(upper = df['Age'].quantile(.99), inplace = True)"
   ]
  },
  {
   "cell_type": "markdown",
   "id": "1451c2a8",
   "metadata": {},
   "source": [
    "### Correlation Matrix"
   ]
  },
  {
   "cell_type": "code",
   "execution_count": 16,
   "id": "671dc163",
   "metadata": {},
   "outputs": [
    {
     "data": {
      "image/png": "[encoded data removed]",
      "text/plain": [
       "<Figure size 720x360 with 2 Axes>"
      ]
     },
     "metadata": {
      "needs_background": "light"
     },
     "output_type": "display_data"
    }
   ],
   "source": [
    "f, ax = plt.subplots(figsize = (10, 5))\n",
    "sns.heatmap(df.corr(), annot = True, linewidth = .5, fmt = '.2f', ax = ax)\n",
    "plt.show()"
   ]
  },
  {
   "cell_type": "markdown",
   "id": "ac6d17af",
   "metadata": {},
   "source": [
    "## Categorical Variables"
   ]
  },
  {
   "cell_type": "code",
   "execution_count": 17,
   "id": "bd9b976d",
   "metadata": {},
   "outputs": [
    {
     "data": {
      "text/html": [
       "<div>\n",
       "<style scoped>\n",
       "    .dataframe tbody tr th:only-of-type {\n",
       "        vertical-align: middle;\n",
       "    }\n",
       "\n",
       "    .dataframe tbody tr th {\n",
       "        vertical-align: top;\n",
       "    }\n",
       "\n",
       "    .dataframe thead th {\n",
       "        text-align: right;\n",
       "    }\n",
       "</style>\n",
       "<table border=\"1\" class=\"dataframe\">\n",
       "  <thead>\n",
       "    <tr style=\"text-align: right;\">\n",
       "      <th></th>\n",
       "      <th>CreditScore</th>\n",
       "      <th>Geography</th>\n",
       "      <th>Gender</th>\n",
       "      <th>Age</th>\n",
       "      <th>Tenure</th>\n",
       "      <th>Balance</th>\n",
       "      <th>NumOfProducts</th>\n",
       "      <th>HasCrCard</th>\n",
       "      <th>IsActiveMember</th>\n",
       "      <th>EstimatedSalary</th>\n",
       "      <th>Exited</th>\n",
       "    </tr>\n",
       "  </thead>\n",
       "  <tbody>\n",
       "    <tr>\n",
       "      <th>0</th>\n",
       "      <td>619</td>\n",
       "      <td>France</td>\n",
       "      <td>Female</td>\n",
       "      <td>42</td>\n",
       "      <td>2</td>\n",
       "      <td>0.00</td>\n",
       "      <td>1</td>\n",
       "      <td>1</td>\n",
       "      <td>1</td>\n",
       "      <td>101348.88</td>\n",
       "      <td>1</td>\n",
       "    </tr>\n",
       "    <tr>\n",
       "      <th>1</th>\n",
       "      <td>608</td>\n",
       "      <td>Spain</td>\n",
       "      <td>Female</td>\n",
       "      <td>41</td>\n",
       "      <td>1</td>\n",
       "      <td>83807.86</td>\n",
       "      <td>1</td>\n",
       "      <td>0</td>\n",
       "      <td>1</td>\n",
       "      <td>112542.58</td>\n",
       "      <td>0</td>\n",
       "    </tr>\n",
       "    <tr>\n",
       "      <th>2</th>\n",
       "      <td>502</td>\n",
       "      <td>France</td>\n",
       "      <td>Female</td>\n",
       "      <td>42</td>\n",
       "      <td>8</td>\n",
       "      <td>159660.80</td>\n",
       "      <td>3</td>\n",
       "      <td>1</td>\n",
       "      <td>0</td>\n",
       "      <td>113931.57</td>\n",
       "      <td>1</td>\n",
       "    </tr>\n",
       "    <tr>\n",
       "      <th>3</th>\n",
       "      <td>699</td>\n",
       "      <td>France</td>\n",
       "      <td>Female</td>\n",
       "      <td>39</td>\n",
       "      <td>1</td>\n",
       "      <td>0.00</td>\n",
       "      <td>2</td>\n",
       "      <td>0</td>\n",
       "      <td>0</td>\n",
       "      <td>93826.63</td>\n",
       "      <td>0</td>\n",
       "    </tr>\n",
       "    <tr>\n",
       "      <th>4</th>\n",
       "      <td>850</td>\n",
       "      <td>Spain</td>\n",
       "      <td>Female</td>\n",
       "      <td>43</td>\n",
       "      <td>2</td>\n",
       "      <td>125510.82</td>\n",
       "      <td>1</td>\n",
       "      <td>1</td>\n",
       "      <td>1</td>\n",
       "      <td>79084.10</td>\n",
       "      <td>0</td>\n",
       "    </tr>\n",
       "  </tbody>\n",
       "</table>\n",
       "</div>"
      ],
      "text/plain": [
       "   CreditScore Geography  Gender  Age  Tenure    Balance  NumOfProducts  \\\n",
       "0          619    France  Female   42       2       0.00              1   \n",
       "1          608     Spain  Female   41       1   83807.86              1   \n",
       "2          502    France  Female   42       8  159660.80              3   \n",
       "3          699    France  Female   39       1       0.00              2   \n",
       "4          850     Spain  Female   43       2  125510.82              1   \n",
       "\n",
       "   HasCrCard  IsActiveMember  EstimatedSalary  Exited  \n",
       "0          1               1        101348.88       1  \n",
       "1          0               1        112542.58       0  \n",
       "2          1               0        113931.57       1  \n",
       "3          0               0         93826.63       0  \n",
       "4          1               1         79084.10       0  "
      ]
     },
     "execution_count": 17,
     "metadata": {},
     "output_type": "execute_result"
    }
   ],
   "source": [
    "df.head()"
   ]
  },
  {
   "cell_type": "code",
   "execution_count": 18,
   "id": "6746113c",
   "metadata": {},
   "outputs": [],
   "source": [
    "cat_feat = ['Geography', 'Gender', 'HasCrCard', 'IsActiveMember']"
   ]
  },
  {
   "cell_type": "code",
   "execution_count": 19,
   "id": "5c630a28",
   "metadata": {},
   "outputs": [
    {
     "data": {
      "image/png": "[encoded data removed]",
      "text/plain": [
       "<Figure size 432x288 with 1 Axes>"
      ]
     },
     "metadata": {
      "needs_background": "light"
     },
     "output_type": "display_data"
    },
    {
     "data": {
      "image/png": "[encoded data removed]",
      "text/plain": [
       "<Figure size 432x288 with 1 Axes>"
      ]
     },
     "metadata": {
      "needs_background": "light"
     },
     "output_type": "display_data"
    },
    {
     "data": {
      "image/png": "[encoded data removed]",
      "text/plain": [
       "<Figure size 432x288 with 1 Axes>"
      ]
     },
     "metadata": {
      "needs_background": "light"
     },
     "output_type": "display_data"
    },
    {
     "data": {
      "image/png": "[encoded data removed]",
      "text/plain": [
       "<Figure size 432x288 with 1 Axes>"
      ]
     },
     "metadata": {
      "needs_background": "light"
     },
     "output_type": "display_data"
    }
   ],
   "source": [
    "for cols in cat_feat: \n",
    "    sns.barplot(x=df[cols], y=df['Exited'], fill=True, alpha=1, ci=None)\n",
    "    plt.show()"
   ]
  },
  {
   "cell_type": "markdown",
   "id": "14ceb678",
   "metadata": {},
   "source": [
    "## Transformation"
   ]
  },
  {
   "cell_type": "code",
   "execution_count": 20,
   "id": "206accda",
   "metadata": {},
   "outputs": [],
   "source": [
    "for col in cat_feat:\n",
    "    dummy_cols = pd.get_dummies(df[col], drop_first=True, prefix=col)\n",
    "    df = pd.concat([df,dummy_cols],axis=1)\n",
    "    df.drop(columns=col, inplace=True)"
   ]
  },
  {
   "cell_type": "code",
   "execution_count": 21,
   "id": "f1292cd1",
   "metadata": {},
   "outputs": [
    {
     "data": {
      "text/html": [
       "<div>\n",
       "<style scoped>\n",
       "    .dataframe tbody tr th:only-of-type {\n",
       "        vertical-align: middle;\n",
       "    }\n",
       "\n",
       "    .dataframe tbody tr th {\n",
       "        vertical-align: top;\n",
       "    }\n",
       "\n",
       "    .dataframe thead th {\n",
       "        text-align: right;\n",
       "    }\n",
       "</style>\n",
       "<table border=\"1\" class=\"dataframe\">\n",
       "  <thead>\n",
       "    <tr style=\"text-align: right;\">\n",
       "      <th></th>\n",
       "      <th>CreditScore</th>\n",
       "      <th>Age</th>\n",
       "      <th>Tenure</th>\n",
       "      <th>Balance</th>\n",
       "      <th>NumOfProducts</th>\n",
       "      <th>EstimatedSalary</th>\n",
       "      <th>Exited</th>\n",
       "      <th>Geography_Germany</th>\n",
       "      <th>Geography_Spain</th>\n",
       "      <th>Gender_Male</th>\n",
       "      <th>HasCrCard_1</th>\n",
       "      <th>IsActiveMember_1</th>\n",
       "    </tr>\n",
       "  </thead>\n",
       "  <tbody>\n",
       "    <tr>\n",
       "      <th>0</th>\n",
       "      <td>619</td>\n",
       "      <td>42</td>\n",
       "      <td>2</td>\n",
       "      <td>0.00</td>\n",
       "      <td>1</td>\n",
       "      <td>101348.88</td>\n",
       "      <td>1</td>\n",
       "      <td>0</td>\n",
       "      <td>0</td>\n",
       "      <td>0</td>\n",
       "      <td>1</td>\n",
       "      <td>1</td>\n",
       "    </tr>\n",
       "    <tr>\n",
       "      <th>1</th>\n",
       "      <td>608</td>\n",
       "      <td>41</td>\n",
       "      <td>1</td>\n",
       "      <td>83807.86</td>\n",
       "      <td>1</td>\n",
       "      <td>112542.58</td>\n",
       "      <td>0</td>\n",
       "      <td>0</td>\n",
       "      <td>1</td>\n",
       "      <td>0</td>\n",
       "      <td>0</td>\n",
       "      <td>1</td>\n",
       "    </tr>\n",
       "    <tr>\n",
       "      <th>2</th>\n",
       "      <td>502</td>\n",
       "      <td>42</td>\n",
       "      <td>8</td>\n",
       "      <td>159660.80</td>\n",
       "      <td>3</td>\n",
       "      <td>113931.57</td>\n",
       "      <td>1</td>\n",
       "      <td>0</td>\n",
       "      <td>0</td>\n",
       "      <td>0</td>\n",
       "      <td>1</td>\n",
       "      <td>0</td>\n",
       "    </tr>\n",
       "    <tr>\n",
       "      <th>3</th>\n",
       "      <td>699</td>\n",
       "      <td>39</td>\n",
       "      <td>1</td>\n",
       "      <td>0.00</td>\n",
       "      <td>2</td>\n",
       "      <td>93826.63</td>\n",
       "      <td>0</td>\n",
       "      <td>0</td>\n",
       "      <td>0</td>\n",
       "      <td>0</td>\n",
       "      <td>0</td>\n",
       "      <td>0</td>\n",
       "    </tr>\n",
       "    <tr>\n",
       "      <th>4</th>\n",
       "      <td>850</td>\n",
       "      <td>43</td>\n",
       "      <td>2</td>\n",
       "      <td>125510.82</td>\n",
       "      <td>1</td>\n",
       "      <td>79084.10</td>\n",
       "      <td>0</td>\n",
       "      <td>0</td>\n",
       "      <td>1</td>\n",
       "      <td>0</td>\n",
       "      <td>1</td>\n",
       "      <td>1</td>\n",
       "    </tr>\n",
       "  </tbody>\n",
       "</table>\n",
       "</div>"
      ],
      "text/plain": [
       "   CreditScore  Age  Tenure    Balance  NumOfProducts  EstimatedSalary  \\\n",
       "0          619   42       2       0.00              1        101348.88   \n",
       "1          608   41       1   83807.86              1        112542.58   \n",
       "2          502   42       8  159660.80              3        113931.57   \n",
       "3          699   39       1       0.00              2         93826.63   \n",
       "4          850   43       2  125510.82              1         79084.10   \n",
       "\n",
       "   Exited  Geography_Germany  Geography_Spain  Gender_Male  HasCrCard_1  \\\n",
       "0       1                  0                0            0            1   \n",
       "1       0                  0                1            0            0   \n",
       "2       1                  0                0            0            1   \n",
       "3       0                  0                0            0            0   \n",
       "4       0                  0                1            0            1   \n",
       "\n",
       "   IsActiveMember_1  \n",
       "0                 1  \n",
       "1                 1  \n",
       "2                 0  \n",
       "3                 0  \n",
       "4                 1  "
      ]
     },
     "execution_count": 21,
     "metadata": {},
     "output_type": "execute_result"
    }
   ],
   "source": [
    "df.head()"
   ]
  },
  {
   "cell_type": "code",
   "execution_count": 22,
   "id": "34e3dc5c",
   "metadata": {},
   "outputs": [],
   "source": [
    "df['Log_Age'] = np.log(df['Age'])"
   ]
  },
  {
   "cell_type": "code",
   "execution_count": 23,
   "id": "a19f8144",
   "metadata": {},
   "outputs": [],
   "source": [
    "df_final = df.drop(['Age'], axis=1)"
   ]
  },
  {
   "cell_type": "code",
   "execution_count": 24,
   "id": "82923296",
   "metadata": {},
   "outputs": [
    {
     "data": {
      "text/html": [
       "<div>\n",
       "<style scoped>\n",
       "    .dataframe tbody tr th:only-of-type {\n",
       "        vertical-align: middle;\n",
       "    }\n",
       "\n",
       "    .dataframe tbody tr th {\n",
       "        vertical-align: top;\n",
       "    }\n",
       "\n",
       "    .dataframe thead th {\n",
       "        text-align: right;\n",
       "    }\n",
       "</style>\n",
       "<table border=\"1\" class=\"dataframe\">\n",
       "  <thead>\n",
       "    <tr style=\"text-align: right;\">\n",
       "      <th></th>\n",
       "      <th>CreditScore</th>\n",
       "      <th>Tenure</th>\n",
       "      <th>Balance</th>\n",
       "      <th>NumOfProducts</th>\n",
       "      <th>EstimatedSalary</th>\n",
       "      <th>Exited</th>\n",
       "      <th>Geography_Germany</th>\n",
       "      <th>Geography_Spain</th>\n",
       "      <th>Gender_Male</th>\n",
       "      <th>HasCrCard_1</th>\n",
       "      <th>IsActiveMember_1</th>\n",
       "      <th>Log_Age</th>\n",
       "    </tr>\n",
       "  </thead>\n",
       "  <tbody>\n",
       "    <tr>\n",
       "      <th>0</th>\n",
       "      <td>619</td>\n",
       "      <td>2</td>\n",
       "      <td>0.00</td>\n",
       "      <td>1</td>\n",
       "      <td>101348.88</td>\n",
       "      <td>1</td>\n",
       "      <td>0</td>\n",
       "      <td>0</td>\n",
       "      <td>0</td>\n",
       "      <td>1</td>\n",
       "      <td>1</td>\n",
       "      <td>3.737670</td>\n",
       "    </tr>\n",
       "    <tr>\n",
       "      <th>1</th>\n",
       "      <td>608</td>\n",
       "      <td>1</td>\n",
       "      <td>83807.86</td>\n",
       "      <td>1</td>\n",
       "      <td>112542.58</td>\n",
       "      <td>0</td>\n",
       "      <td>0</td>\n",
       "      <td>1</td>\n",
       "      <td>0</td>\n",
       "      <td>0</td>\n",
       "      <td>1</td>\n",
       "      <td>3.713572</td>\n",
       "    </tr>\n",
       "    <tr>\n",
       "      <th>2</th>\n",
       "      <td>502</td>\n",
       "      <td>8</td>\n",
       "      <td>159660.80</td>\n",
       "      <td>3</td>\n",
       "      <td>113931.57</td>\n",
       "      <td>1</td>\n",
       "      <td>0</td>\n",
       "      <td>0</td>\n",
       "      <td>0</td>\n",
       "      <td>1</td>\n",
       "      <td>0</td>\n",
       "      <td>3.737670</td>\n",
       "    </tr>\n",
       "    <tr>\n",
       "      <th>3</th>\n",
       "      <td>699</td>\n",
       "      <td>1</td>\n",
       "      <td>0.00</td>\n",
       "      <td>2</td>\n",
       "      <td>93826.63</td>\n",
       "      <td>0</td>\n",
       "      <td>0</td>\n",
       "      <td>0</td>\n",
       "      <td>0</td>\n",
       "      <td>0</td>\n",
       "      <td>0</td>\n",
       "      <td>3.663562</td>\n",
       "    </tr>\n",
       "    <tr>\n",
       "      <th>4</th>\n",
       "      <td>850</td>\n",
       "      <td>2</td>\n",
       "      <td>125510.82</td>\n",
       "      <td>1</td>\n",
       "      <td>79084.10</td>\n",
       "      <td>0</td>\n",
       "      <td>0</td>\n",
       "      <td>1</td>\n",
       "      <td>0</td>\n",
       "      <td>1</td>\n",
       "      <td>1</td>\n",
       "      <td>3.761200</td>\n",
       "    </tr>\n",
       "  </tbody>\n",
       "</table>\n",
       "</div>"
      ],
      "text/plain": [
       "   CreditScore  Tenure    Balance  NumOfProducts  EstimatedSalary  Exited  \\\n",
       "0          619       2       0.00              1        101348.88       1   \n",
       "1          608       1   83807.86              1        112542.58       0   \n",
       "2          502       8  159660.80              3        113931.57       1   \n",
       "3          699       1       0.00              2         93826.63       0   \n",
       "4          850       2  125510.82              1         79084.10       0   \n",
       "\n",
       "   Geography_Germany  Geography_Spain  Gender_Male  HasCrCard_1  \\\n",
       "0                  0                0            0            1   \n",
       "1                  0                1            0            0   \n",
       "2                  0                0            0            1   \n",
       "3                  0                0            0            0   \n",
       "4                  0                1            0            1   \n",
       "\n",
       "   IsActiveMember_1   Log_Age  \n",
       "0                 1  3.737670  \n",
       "1                 1  3.713572  \n",
       "2                 0  3.737670  \n",
       "3                 0  3.663562  \n",
       "4                 1  3.761200  "
      ]
     },
     "execution_count": 24,
     "metadata": {},
     "output_type": "execute_result"
    }
   ],
   "source": [
    "df_final.head()"
   ]
  },
  {
   "cell_type": "markdown",
   "id": "6c307835",
   "metadata": {},
   "source": [
    "## Train Val Test Split"
   ]
  },
  {
   "cell_type": "code",
   "execution_count": 25,
   "id": "d4d75507",
   "metadata": {},
   "outputs": [],
   "source": [
    "y = df_final['Exited'].copy()\n",
    "X = df_final.drop(['Exited'], axis=1)"
   ]
  },
  {
   "cell_type": "code",
   "execution_count": 26,
   "id": "d49df314",
   "metadata": {},
   "outputs": [],
   "source": [
    "#split dataset in training, validation and testing \n",
    "X_train, X_test, y_train, y_test = train_test_split(X, y, test_size = 0.4, random_state = 42)\n",
    "X_val, X_test, y_val, y_test = train_test_split(X_test, y_test, test_size = 0.5, random_state =42)"
   ]
  },
  {
   "cell_type": "code",
   "execution_count": 27,
   "id": "4d1a92aa",
   "metadata": {},
   "outputs": [
    {
     "data": {
      "text/html": [
       "<div>\n",
       "<style scoped>\n",
       "    .dataframe tbody tr th:only-of-type {\n",
       "        vertical-align: middle;\n",
       "    }\n",
       "\n",
       "    .dataframe tbody tr th {\n",
       "        vertical-align: top;\n",
       "    }\n",
       "\n",
       "    .dataframe thead th {\n",
       "        text-align: right;\n",
       "    }\n",
       "</style>\n",
       "<table border=\"1\" class=\"dataframe\">\n",
       "  <thead>\n",
       "    <tr style=\"text-align: right;\">\n",
       "      <th></th>\n",
       "      <th>CreditScore</th>\n",
       "      <th>Tenure</th>\n",
       "      <th>Balance</th>\n",
       "      <th>NumOfProducts</th>\n",
       "      <th>EstimatedSalary</th>\n",
       "      <th>Geography_Germany</th>\n",
       "      <th>Geography_Spain</th>\n",
       "      <th>Gender_Male</th>\n",
       "      <th>HasCrCard_1</th>\n",
       "      <th>IsActiveMember_1</th>\n",
       "      <th>Log_Age</th>\n",
       "    </tr>\n",
       "  </thead>\n",
       "  <tbody>\n",
       "    <tr>\n",
       "      <th>9761</th>\n",
       "      <td>807</td>\n",
       "      <td>1</td>\n",
       "      <td>72948.58</td>\n",
       "      <td>2</td>\n",
       "      <td>17355.36</td>\n",
       "      <td>1</td>\n",
       "      <td>0</td>\n",
       "      <td>0</td>\n",
       "      <td>1</td>\n",
       "      <td>1</td>\n",
       "      <td>4.094345</td>\n",
       "    </tr>\n",
       "    <tr>\n",
       "      <th>3159</th>\n",
       "      <td>834</td>\n",
       "      <td>4</td>\n",
       "      <td>131254.81</td>\n",
       "      <td>1</td>\n",
       "      <td>20199.30</td>\n",
       "      <td>0</td>\n",
       "      <td>0</td>\n",
       "      <td>1</td>\n",
       "      <td>1</td>\n",
       "      <td>0</td>\n",
       "      <td>3.135494</td>\n",
       "    </tr>\n",
       "    <tr>\n",
       "      <th>1489</th>\n",
       "      <td>609</td>\n",
       "      <td>8</td>\n",
       "      <td>141675.23</td>\n",
       "      <td>1</td>\n",
       "      <td>175664.25</td>\n",
       "      <td>0</td>\n",
       "      <td>0</td>\n",
       "      <td>0</td>\n",
       "      <td>0</td>\n",
       "      <td>1</td>\n",
       "      <td>3.663562</td>\n",
       "    </tr>\n",
       "    <tr>\n",
       "      <th>2987</th>\n",
       "      <td>676</td>\n",
       "      <td>1</td>\n",
       "      <td>108348.66</td>\n",
       "      <td>1</td>\n",
       "      <td>60231.74</td>\n",
       "      <td>1</td>\n",
       "      <td>0</td>\n",
       "      <td>0</td>\n",
       "      <td>0</td>\n",
       "      <td>0</td>\n",
       "      <td>3.258097</td>\n",
       "    </tr>\n",
       "    <tr>\n",
       "      <th>812</th>\n",
       "      <td>516</td>\n",
       "      <td>3</td>\n",
       "      <td>0.00</td>\n",
       "      <td>2</td>\n",
       "      <td>58685.59</td>\n",
       "      <td>0</td>\n",
       "      <td>1</td>\n",
       "      <td>0</td>\n",
       "      <td>1</td>\n",
       "      <td>1</td>\n",
       "      <td>3.496508</td>\n",
       "    </tr>\n",
       "  </tbody>\n",
       "</table>\n",
       "</div>"
      ],
      "text/plain": [
       "      CreditScore  Tenure    Balance  NumOfProducts  EstimatedSalary  \\\n",
       "9761          807       1   72948.58              2         17355.36   \n",
       "3159          834       4  131254.81              1         20199.30   \n",
       "1489          609       8  141675.23              1        175664.25   \n",
       "2987          676       1  108348.66              1         60231.74   \n",
       "812           516       3       0.00              2         58685.59   \n",
       "\n",
       "      Geography_Germany  Geography_Spain  Gender_Male  HasCrCard_1  \\\n",
       "9761                  1                0            0            1   \n",
       "3159                  0                0            1            1   \n",
       "1489                  0                0            0            0   \n",
       "2987                  1                0            0            0   \n",
       "812                   0                1            0            1   \n",
       "\n",
       "      IsActiveMember_1   Log_Age  \n",
       "9761                 1  4.094345  \n",
       "3159                 0  3.135494  \n",
       "1489                 1  3.663562  \n",
       "2987                 0  3.258097  \n",
       "812                  1  3.496508  "
      ]
     },
     "execution_count": 27,
     "metadata": {},
     "output_type": "execute_result"
    }
   ],
   "source": [
    "X_train.head()"
   ]
  },
  {
   "cell_type": "code",
   "execution_count": 28,
   "id": "d0b5e0fb",
   "metadata": {},
   "outputs": [
    {
     "data": {
      "text/plain": [
       "((6000, 11), (6000,))"
      ]
     },
     "execution_count": 28,
     "metadata": {},
     "output_type": "execute_result"
    }
   ],
   "source": [
    "X_train.shape, y_train.shape"
   ]
  },
  {
   "cell_type": "code",
   "execution_count": 29,
   "id": "1baf21be",
   "metadata": {},
   "outputs": [
    {
     "data": {
      "text/plain": [
       "0    4773\n",
       "1    1227\n",
       "Name: Exited, dtype: int64"
      ]
     },
     "execution_count": 29,
     "metadata": {},
     "output_type": "execute_result"
    }
   ],
   "source": [
    "y_train.value_counts()"
   ]
  },
  {
   "cell_type": "code",
   "execution_count": 30,
   "id": "2e5c1701",
   "metadata": {},
   "outputs": [
    {
     "name": "stdout",
     "output_type": "stream",
     "text": [
      "0.6\n",
      "0.2\n",
      "0.2\n"
     ]
    }
   ],
   "source": [
    "for dataset in [y_train, y_val, y_test]:\n",
    "    print(round(len(dataset) / len(y), 2))"
   ]
  },
  {
   "cell_type": "markdown",
   "id": "34a8a5a4",
   "metadata": {},
   "source": [
    "### Scaling"
   ]
  },
  {
   "cell_type": "code",
   "execution_count": 31,
   "id": "1509f1d3",
   "metadata": {},
   "outputs": [],
   "source": [
    "scaler = MinMaxScaler()"
   ]
  },
  {
   "cell_type": "code",
   "execution_count": 32,
   "id": "95b7513a",
   "metadata": {},
   "outputs": [],
   "source": [
    "X_train = scaler.fit_transform(X_train)"
   ]
  },
  {
   "cell_type": "code",
   "execution_count": 33,
   "id": "dbf033e6",
   "metadata": {},
   "outputs": [],
   "source": [
    "X_val = scaler.transform(X_val)\n",
    "X_test = scaler.transform(X_test)"
   ]
  },
  {
   "cell_type": "code",
   "execution_count": 34,
   "id": "571eafa6",
   "metadata": {},
   "outputs": [
    {
     "data": {
      "text/plain": [
       "array([[0.914     , 0.1       , 0.29074984, 0.33333333, 0.08637799,\n",
       "        1.        , 0.        , 0.        , 1.        , 1.        ,\n",
       "        0.8684828 ],\n",
       "       [0.968     , 0.4       , 0.52313993, 0.        , 0.10060618,\n",
       "        0.        , 0.        , 1.        , 1.        , 0.        ,\n",
       "        0.17681848]])"
      ]
     },
     "execution_count": 34,
     "metadata": {},
     "output_type": "execute_result"
    }
   ],
   "source": [
    "X_train[:2]"
   ]
  },
  {
   "cell_type": "markdown",
   "id": "df05c6d8",
   "metadata": {},
   "source": [
    "## Smote"
   ]
  },
  {
   "cell_type": "code",
   "execution_count": 35,
   "id": "2a6aadbd",
   "metadata": {},
   "outputs": [],
   "source": [
    "sm = SMOTE(random_state = 100)"
   ]
  },
  {
   "cell_type": "code",
   "execution_count": 36,
   "id": "bfac097f",
   "metadata": {},
   "outputs": [],
   "source": [
    "X_train, y_train = sm.fit_resample(X_train, y_train)"
   ]
  },
  {
   "cell_type": "code",
   "execution_count": 37,
   "id": "a0e1dc66",
   "metadata": {},
   "outputs": [
    {
     "data": {
      "text/plain": [
       "(10000, 13)"
      ]
     },
     "execution_count": 37,
     "metadata": {},
     "output_type": "execute_result"
    }
   ],
   "source": [
    "df.shape"
   ]
  },
  {
   "cell_type": "code",
   "execution_count": 38,
   "id": "fe6fab8e",
   "metadata": {},
   "outputs": [
    {
     "data": {
      "text/plain": [
       "(9546, 11)"
      ]
     },
     "execution_count": 38,
     "metadata": {},
     "output_type": "execute_result"
    }
   ],
   "source": [
    "pd.DataFrame(X_train).shape"
   ]
  },
  {
   "cell_type": "markdown",
   "id": "e3f39dc6",
   "metadata": {},
   "source": [
    "## Training"
   ]
  },
  {
   "cell_type": "code",
   "execution_count": 39,
   "id": "439854b4",
   "metadata": {},
   "outputs": [],
   "source": [
    "def evaluate_model(name, model, features, labels):\n",
    "    start = time()\n",
    "    pred = model.predict(features)\n",
    "    end = time()\n",
    "    auc_roc = round(roc_auc_score(labels, pred), 3)\n",
    "    precision = round(precision_score(labels, pred), 3)\n",
    "    recall = round(recall_score(labels, pred), 3)\n",
    "    print('{} -- \\tAUC_ROC: {} / Precision: {} / Recall: {} / Latency: {}ms'.format(name,\n",
    "                                                                                     auc_roc,\n",
    "                                                                                     precision,\n",
    "                                                                                     recall,\n",
    "                                                                                     round((end - start)*1000, 1)))\n",
    "    return auc_roc, precision, recall\n",
    "    "
   ]
  },
  {
   "cell_type": "markdown",
   "id": "d54f41fe",
   "metadata": {},
   "source": [
    "### Logistic Regression"
   ]
  },
  {
   "cell_type": "code",
   "execution_count": 40,
   "id": "aaf88213",
   "metadata": {},
   "outputs": [],
   "source": [
    "scores = []"
   ]
  },
  {
   "cell_type": "code",
   "execution_count": 41,
   "id": "a7450be7",
   "metadata": {},
   "outputs": [],
   "source": [
    "params = {\n",
    "    'C': [100, 10, 1.0, 0.1, 0.01]\n",
    "}"
   ]
  },
  {
   "cell_type": "code",
   "execution_count": 42,
   "id": "168aa5c4",
   "metadata": {},
   "outputs": [
    {
     "data": {
      "text/plain": [
       "GridSearchCV(cv=10, estimator=LogisticRegression(max_iter=10000), n_jobs=-1,\n",
       "             param_grid={'C': [100, 10, 1.0, 0.1, 0.01]}, scoring='f1')"
      ]
     },
     "execution_count": 42,
     "metadata": {},
     "output_type": "execute_result"
    }
   ],
   "source": [
    "LR = LogisticRegression(max_iter=10000)\n",
    "grid_LR = GridSearchCV(estimator=LR, param_grid=params, n_jobs=-1, cv=10, scoring='f1')\n",
    "grid_LR.fit(X_train, y_train)"
   ]
  },
  {
   "cell_type": "code",
   "execution_count": 43,
   "id": "329ec1fe",
   "metadata": {},
   "outputs": [
    {
     "name": "stdout",
     "output_type": "stream",
     "text": [
      "LR -- \tAUC_ROC: 0.712 / Precision: 0.709 / Recall: 0.717 / Latency: 1.0ms\n"
     ]
    }
   ],
   "source": [
    "train_auc_roc, train_precision, train_recall = evaluate_model('LR', grid_LR, X_train, y_train)"
   ]
  },
  {
   "cell_type": "code",
   "execution_count": 44,
   "id": "c7a5f946",
   "metadata": {},
   "outputs": [
    {
     "name": "stdout",
     "output_type": "stream",
     "text": [
      "LR -- \tAUC_ROC: 0.692 / Precision: 0.343 / Recall: 0.695 / Latency: 1.0ms\n"
     ]
    }
   ],
   "source": [
    "val_auc_roc, val_precision, val_recall = evaluate_model('LR', grid_LR, X_val, y_val)"
   ]
  },
  {
   "cell_type": "code",
   "execution_count": 45,
   "id": "afbdf1e0",
   "metadata": {},
   "outputs": [
    {
     "name": "stdout",
     "output_type": "stream",
     "text": [
      "LR -- \tAUC_ROC: 0.717 / Precision: 0.399 / Recall: 0.737 / Latency: 1.0ms\n"
     ]
    }
   ],
   "source": [
    "test_auc_roc, test_precision, test_recall = evaluate_model('LR', grid_LR, X_test, y_test)"
   ]
  },
  {
   "cell_type": "code",
   "execution_count": 46,
   "id": "e933a78e",
   "metadata": {},
   "outputs": [],
   "source": [
    "model_name = 'Logistic Regression'\n",
    "\n",
    "scores.append({\n",
    "    'Model': model_name,\n",
    "    'Train AUC ROC': train_auc_roc,\n",
    "    'Val AUC ROC': val_auc_roc,\n",
    "    'AUC ROC Score': test_auc_roc,\n",
    "    'Precision': test_precision,\n",
    "    'Recall': test_recall\n",
    "})"
   ]
  },
  {
   "cell_type": "markdown",
   "id": "dee93376",
   "metadata": {},
   "source": [
    "### SVM"
   ]
  },
  {
   "cell_type": "code",
   "execution_count": 47,
   "id": "302841ca",
   "metadata": {},
   "outputs": [],
   "source": [
    "from sklearn import svm"
   ]
  },
  {
   "cell_type": "code",
   "execution_count": 48,
   "id": "8526bab3",
   "metadata": {},
   "outputs": [
    {
     "data": {
      "text/plain": [
       "SVC(gamma='auto', probability=True)"
      ]
     },
     "execution_count": 48,
     "metadata": {},
     "output_type": "execute_result"
    }
   ],
   "source": [
    "#Create a svm Classifier\n",
    "svm = svm.SVC(gamma = 'auto', probability=True)\n",
    "\n",
    "#Train the model using the training sets\n",
    "svm.fit(X_train, y_train)"
   ]
  },
  {
   "cell_type": "code",
   "execution_count": 49,
   "id": "85ce9a10",
   "metadata": {},
   "outputs": [
    {
     "name": "stdout",
     "output_type": "stream",
     "text": [
      "SVM -- \tAUC_ROC: 0.727 / Precision: 0.418 / Recall: 0.735 / Latency: 1296.2ms\n"
     ]
    },
    {
     "data": {
      "text/plain": [
       "(0.727, 0.418, 0.735)"
      ]
     },
     "execution_count": 49,
     "metadata": {},
     "output_type": "execute_result"
    }
   ],
   "source": [
    "evaluate_model('SVM', svm, X_test, y_test)"
   ]
  },
  {
   "cell_type": "code",
   "execution_count": 50,
   "id": "d12d5d27",
   "metadata": {},
   "outputs": [
    {
     "name": "stdout",
     "output_type": "stream",
     "text": [
      "svm -- \tAUC_ROC: 0.735 / Precision: 0.737 / Recall: 0.732 / Latency: 6414.2ms\n"
     ]
    }
   ],
   "source": [
    "train_auc_roc, train_precision, train_recall = evaluate_model('svm', svm, X_train, y_train)"
   ]
  },
  {
   "cell_type": "code",
   "execution_count": 51,
   "id": "a4d784cb",
   "metadata": {},
   "outputs": [
    {
     "name": "stdout",
     "output_type": "stream",
     "text": [
      "svm -- \tAUC_ROC: 0.703 / Precision: 0.367 / Recall: 0.682 / Latency: 1357.7ms\n"
     ]
    }
   ],
   "source": [
    "val_auc_roc, val_precision, val_recall = evaluate_model('svm', svm, X_val, y_val)"
   ]
  },
  {
   "cell_type": "code",
   "execution_count": 52,
   "id": "75b2f17e",
   "metadata": {},
   "outputs": [
    {
     "name": "stdout",
     "output_type": "stream",
     "text": [
      "svm -- \tAUC_ROC: 0.727 / Precision: 0.418 / Recall: 0.735 / Latency: 1351.0ms\n"
     ]
    }
   ],
   "source": [
    "test_auc_roc, test_precision, test_recall = evaluate_model('svm', svm, X_test, y_test)"
   ]
  },
  {
   "cell_type": "code",
   "execution_count": 53,
   "id": "528d9566",
   "metadata": {},
   "outputs": [],
   "source": [
    "model_name = 'SVM'\n",
    "\n",
    "scores.append({\n",
    "    'Model': model_name,\n",
    "    'Train AUC ROC': train_auc_roc,\n",
    "    'Val AUC ROC': val_auc_roc,\n",
    "    'AUC ROC Score': test_auc_roc,\n",
    "    'Precision': test_precision,\n",
    "    'Recall': test_recall\n",
    "})"
   ]
  },
  {
   "cell_type": "markdown",
   "id": "ab2b343f",
   "metadata": {},
   "source": [
    "### Decision Tree"
   ]
  },
  {
   "cell_type": "code",
   "execution_count": 54,
   "id": "07261a6b",
   "metadata": {},
   "outputs": [],
   "source": [
    "from sklearn.tree import DecisionTreeClassifier"
   ]
  },
  {
   "cell_type": "code",
   "execution_count": 55,
   "id": "5ceeabff",
   "metadata": {},
   "outputs": [],
   "source": [
    "params = {\n",
    "    'max_depth': [2, 3, 5, 10, 20],\n",
    "    'min_samples_leaf': [5, 10, 20, 50, 100],\n",
    "    'criterion': [\"gini\", \"entropy\"]\n",
    "}"
   ]
  },
  {
   "cell_type": "code",
   "execution_count": 56,
   "id": "5d28f139",
   "metadata": {},
   "outputs": [],
   "source": [
    "# DT = DecisionTreeClassifier()\n",
    "\n",
    "# # Train Decision Tree Classifer\n",
    "# DT = clf.fit(X_train,y_train)"
   ]
  },
  {
   "cell_type": "code",
   "execution_count": 57,
   "id": "a1645ca3",
   "metadata": {},
   "outputs": [
    {
     "data": {
      "text/plain": [
       "GridSearchCV(cv=10, estimator=DecisionTreeClassifier(), n_jobs=-1,\n",
       "             param_grid={'criterion': ['gini', 'entropy'],\n",
       "                         'max_depth': [2, 3, 5, 10, 20],\n",
       "                         'min_samples_leaf': [5, 10, 20, 50, 100]},\n",
       "             scoring='roc_auc')"
      ]
     },
     "execution_count": 57,
     "metadata": {},
     "output_type": "execute_result"
    }
   ],
   "source": [
    "DT = DecisionTreeClassifier()\n",
    "grid_DT = GridSearchCV(estimator=DT, param_grid=params, n_jobs=-1, cv=10, scoring='roc_auc')\n",
    "grid_DT.fit(X_train, y_train)"
   ]
  },
  {
   "cell_type": "code",
   "execution_count": 58,
   "id": "7ea55fc7",
   "metadata": {},
   "outputs": [
    {
     "name": "stdout",
     "output_type": "stream",
     "text": [
      "DT -- \tAUC_ROC: 0.871 / Precision: 0.88 / Recall: 0.859 / Latency: 2.0ms\n"
     ]
    }
   ],
   "source": [
    "train_auc_roc, train_precision, train_recall = evaluate_model('DT', grid_DT, X_train, y_train)"
   ]
  },
  {
   "cell_type": "code",
   "execution_count": 59,
   "id": "498ff908",
   "metadata": {},
   "outputs": [
    {
     "name": "stdout",
     "output_type": "stream",
     "text": [
      "DT -- \tAUC_ROC: 0.713 / Precision: 0.455 / Recall: 0.592 / Latency: 0.0ms\n"
     ]
    }
   ],
   "source": [
    "val_auc_roc, val_precision, val_recall = evaluate_model('DT', grid_DT, X_val, y_val)"
   ]
  },
  {
   "cell_type": "code",
   "execution_count": 60,
   "id": "db716903",
   "metadata": {},
   "outputs": [
    {
     "name": "stdout",
     "output_type": "stream",
     "text": [
      "DT -- \tAUC_ROC: 0.766 / Precision: 0.549 / Recall: 0.686 / Latency: 1.0ms\n"
     ]
    }
   ],
   "source": [
    "test_auc_roc, test_precision, test_recall = evaluate_model('DT', grid_DT, X_test, y_test)"
   ]
  },
  {
   "cell_type": "code",
   "execution_count": 61,
   "id": "40b920a3",
   "metadata": {},
   "outputs": [],
   "source": [
    "model_name = 'DT'\n",
    "\n",
    "scores.append({\n",
    "    'Model': model_name,\n",
    "    'Train AUC ROC': train_auc_roc,\n",
    "    'Val AUC ROC': val_auc_roc,\n",
    "    'AUC ROC Score': test_auc_roc,\n",
    "    'Precision': test_precision,\n",
    "    'Recall': test_recall\n",
    "})"
   ]
  },
  {
   "cell_type": "markdown",
   "id": "00a001c7",
   "metadata": {},
   "source": [
    "### Random Forest"
   ]
  },
  {
   "cell_type": "code",
   "execution_count": 62,
   "id": "3ac7aa58",
   "metadata": {},
   "outputs": [],
   "source": [
    "# xgb_model = XGBClassifier(random_state=100, use_label_encoder=False, n_jobs=-1)\n",
    "\n",
    "# xgb_model.fit(X_train, y_train)"
   ]
  },
  {
   "cell_type": "code",
   "execution_count": 63,
   "id": "9beb060e",
   "metadata": {},
   "outputs": [],
   "source": [
    "params = {\n",
    "    'n_estimators': [2**i for i in range(3, 10)],\n",
    "    'max_depth': [2, 4, 8, 16, 32, 64, None],\n",
    "}"
   ]
  },
  {
   "cell_type": "code",
   "execution_count": 64,
   "id": "13c61011",
   "metadata": {},
   "outputs": [
    {
     "data": {
      "text/plain": [
       "GridSearchCV(cv=10, estimator=RandomForestClassifier(), n_jobs=-1,\n",
       "             param_grid={'max_depth': [2, 4, 8, 16, 32, 64, None],\n",
       "                         'n_estimators': [8, 16, 32, 64, 128, 256, 512]},\n",
       "             scoring='roc_auc')"
      ]
     },
     "execution_count": 64,
     "metadata": {},
     "output_type": "execute_result"
    }
   ],
   "source": [
    "RF = RandomForestClassifier()\n",
    "grid_RF = GridSearchCV(RF, params, cv = 10, scoring = 'roc_auc', n_jobs = -1)\n",
    "grid_RF.fit(X_train, y_train)"
   ]
  },
  {
   "cell_type": "code",
   "execution_count": 65,
   "id": "53ea31d4",
   "metadata": {},
   "outputs": [
    {
     "name": "stdout",
     "output_type": "stream",
     "text": [
      "RF -- \tAUC_ROC: 1.0 / Precision: 1.0 / Recall: 1.0 / Latency: 648.8ms\n"
     ]
    }
   ],
   "source": [
    "train_auc_roc, train_precision, train_recall = evaluate_model('RF', grid_RF, X_train, y_train)"
   ]
  },
  {
   "cell_type": "code",
   "execution_count": 66,
   "id": "358fc8d6",
   "metadata": {},
   "outputs": [
    {
     "name": "stdout",
     "output_type": "stream",
     "text": [
      "RF -- \tAUC_ROC: 0.725 / Precision: 0.555 / Recall: 0.555 / Latency: 181.0ms\n"
     ]
    }
   ],
   "source": [
    "val_auc_roc, val_precision, val_recall = evaluate_model('RF', grid_RF, X_val, y_val)"
   ]
  },
  {
   "cell_type": "code",
   "execution_count": 67,
   "id": "eb105e0d",
   "metadata": {},
   "outputs": [
    {
     "name": "stdout",
     "output_type": "stream",
     "text": [
      "RF -- \tAUC_ROC: 0.761 / Precision: 0.649 / Recall: 0.612 / Latency: 178.0ms\n"
     ]
    }
   ],
   "source": [
    "test_auc_roc, test_precision, test_recall = evaluate_model('RF', grid_RF, X_test, y_test)"
   ]
  },
  {
   "cell_type": "code",
   "execution_count": 68,
   "id": "4eee2645",
   "metadata": {},
   "outputs": [],
   "source": [
    "model_name = 'RF'\n",
    "\n",
    "scores.append({\n",
    "    'Model': model_name,\n",
    "    'Train AUC ROC': train_auc_roc,\n",
    "    'Val AUC ROC': val_auc_roc,\n",
    "    'AUC ROC Score': test_auc_roc,\n",
    "    'Precision': test_precision,\n",
    "    'Recall': test_recall\n",
    "})"
   ]
  },
  {
   "cell_type": "markdown",
   "id": "9fac4a5a",
   "metadata": {},
   "source": [
    "## XgBoost"
   ]
  },
  {
   "cell_type": "code",
   "execution_count": 69,
   "id": "a676ab5e",
   "metadata": {},
   "outputs": [],
   "source": [
    "params = {\n",
    "    'n_estimators': [2**i for i in range(3, 10)],\n",
    "    'learning_rate': np.arange(0.01, 0.1, 0.01),\n",
    "    'max_depth': np.arange(1, 10, 1),\n",
    "    'subsample': np.arange(0, 1.1, 0.1),\n",
    "    'min_child_weight': [1, 2, 3, 4, 5, 10, 50, 100],\n",
    "    'reg_alpha': [1, 2, 3, 4, 5, 10, 50, 100],\n",
    "    'reg_lambda':  [1, 2, 3, 4, 5, 10, 50, 100],\n",
    "    'colsample_bytree':  np.arange(0, 1.1, 0.1),\n",
    "    'colsample_bylevel':  np.arange(0, 1.1, 0.1),\n",
    "}"
   ]
  },
  {
   "cell_type": "code",
   "execution_count": 70,
   "id": "6f5790b9",
   "metadata": {},
   "outputs": [],
   "source": [
    "xgb = XGBClassifier(objective = 'binary:logistic')"
   ]
  },
  {
   "cell_type": "code",
   "execution_count": 71,
   "id": "d9185956",
   "metadata": {},
   "outputs": [
    {
     "data": {
      "text/plain": [
       "RandomizedSearchCV(cv=5,\n",
       "                   estimator=XGBClassifier(base_score=None, booster=None,\n",
       "                                           callbacks=None,\n",
       "                                           colsample_bylevel=None,\n",
       "                                           colsample_bynode=None,\n",
       "                                           colsample_bytree=None,\n",
       "                                           early_stopping_rounds=None,\n",
       "                                           enable_categorical=False,\n",
       "                                           eval_metric=None, gamma=None,\n",
       "                                           gpu_id=None, grow_policy=None,\n",
       "                                           importance_type=None,\n",
       "                                           interaction_constraints=None,\n",
       "                                           learning_rate=None, max_bin=None,...\n",
       "                                        'learning_rate': array([0.01, 0.02, 0.03, 0.04, 0.05, 0.06, 0.07, 0.08, 0.09]),\n",
       "                                        'max_depth': array([1, 2, 3, 4, 5, 6, 7, 8, 9]),\n",
       "                                        'min_child_weight': [1, 2, 3, 4, 5, 10,\n",
       "                                                             50, 100],\n",
       "                                        'n_estimators': [8, 16, 32, 64, 128,\n",
       "                                                         256, 512],\n",
       "                                        'reg_alpha': [1, 2, 3, 4, 5, 10, 50,\n",
       "                                                      100],\n",
       "                                        'reg_lambda': [1, 2, 3, 4, 5, 10, 50,\n",
       "                                                       100],\n",
       "                                        'subsample': array([0. , 0.1, 0.2, 0.3, 0.4, 0.5, 0.6, 0.7, 0.8, 0.9, 1. ])},\n",
       "                   random_state=10, scoring='roc_auc')"
      ]
     },
     "execution_count": 71,
     "metadata": {},
     "output_type": "execute_result"
    }
   ],
   "source": [
    "random_xgb = RandomizedSearchCV(xgb, params, cv = 5, scoring = 'roc_auc',\n",
    "                                 n_iter = 500, random_state = 10, return_train_score = False, n_jobs = -1)\n",
    "random_xgb.fit(X_train, y_train)"
   ]
  },
  {
   "cell_type": "code",
   "execution_count": 72,
   "id": "bc8133cb",
   "metadata": {},
   "outputs": [
    {
     "name": "stdout",
     "output_type": "stream",
     "text": [
      "XGB -- \tAUC_ROC: 0.92 / Precision: 0.943 / Recall: 0.894 / Latency: 13.0ms\n"
     ]
    }
   ],
   "source": [
    "train_auc_roc, train_precision, train_recall = evaluate_model('XGB', random_xgb, X_train, y_train)"
   ]
  },
  {
   "cell_type": "code",
   "execution_count": 73,
   "id": "075471a2",
   "metadata": {},
   "outputs": [
    {
     "name": "stdout",
     "output_type": "stream",
     "text": [
      "XGB -- \tAUC_ROC: 0.728 / Precision: 0.628 / Recall: 0.529 / Latency: 5.0ms\n"
     ]
    }
   ],
   "source": [
    "val_auc_roc, val_precision, val_recall = evaluate_model('XGB', random_xgb, X_val, y_val)"
   ]
  },
  {
   "cell_type": "code",
   "execution_count": 74,
   "id": "00b38de1",
   "metadata": {},
   "outputs": [
    {
     "name": "stdout",
     "output_type": "stream",
     "text": [
      "XGB -- \tAUC_ROC: 0.754 / Precision: 0.702 / Recall: 0.574 / Latency: 5.0ms\n"
     ]
    }
   ],
   "source": [
    "test_auc_roc, test_precision, test_recall = evaluate_model('XGB', random_xgb, X_test, y_test)"
   ]
  },
  {
   "cell_type": "code",
   "execution_count": 76,
   "id": "8d14c571",
   "metadata": {},
   "outputs": [],
   "source": [
    "pd.DataFrame(scores)\n",
    "\n",
    "model_name = 'XGB'\n",
    "\n",
    "scores.append({\n",
    "    'Model': model_name,\n",
    "    'Train AUC ROC': train_auc_roc,\n",
    "    'Val AUC ROC': val_auc_roc,\n",
    "    'AUC ROC Score': test_auc_roc,\n",
    "    'Precision': test_precision,\n",
    "    'Recall': test_recall\n",
    "})"
   ]
  },
  {
   "cell_type": "code",
   "execution_count": 77,
   "id": "3ad866ef",
   "metadata": {},
   "outputs": [
    {
     "data": {
      "text/html": [
       "<div>\n",
       "<style scoped>\n",
       "    .dataframe tbody tr th:only-of-type {\n",
       "        vertical-align: middle;\n",
       "    }\n",
       "\n",
       "    .dataframe tbody tr th {\n",
       "        vertical-align: top;\n",
       "    }\n",
       "\n",
       "    .dataframe thead th {\n",
       "        text-align: right;\n",
       "    }\n",
       "</style>\n",
       "<table border=\"1\" class=\"dataframe\">\n",
       "  <thead>\n",
       "    <tr style=\"text-align: right;\">\n",
       "      <th></th>\n",
       "      <th>Model</th>\n",
       "      <th>Train AUC ROC</th>\n",
       "      <th>Val AUC ROC</th>\n",
       "      <th>AUC ROC Score</th>\n",
       "      <th>Precision</th>\n",
       "      <th>Recall</th>\n",
       "    </tr>\n",
       "  </thead>\n",
       "  <tbody>\n",
       "    <tr>\n",
       "      <th>0</th>\n",
       "      <td>Logistic Regression</td>\n",
       "      <td>0.712</td>\n",
       "      <td>0.692</td>\n",
       "      <td>0.717</td>\n",
       "      <td>0.399</td>\n",
       "      <td>0.737</td>\n",
       "    </tr>\n",
       "    <tr>\n",
       "      <th>1</th>\n",
       "      <td>SVM</td>\n",
       "      <td>0.735</td>\n",
       "      <td>0.703</td>\n",
       "      <td>0.727</td>\n",
       "      <td>0.418</td>\n",
       "      <td>0.735</td>\n",
       "    </tr>\n",
       "    <tr>\n",
       "      <th>2</th>\n",
       "      <td>DT</td>\n",
       "      <td>0.871</td>\n",
       "      <td>0.713</td>\n",
       "      <td>0.766</td>\n",
       "      <td>0.549</td>\n",
       "      <td>0.686</td>\n",
       "    </tr>\n",
       "    <tr>\n",
       "      <th>3</th>\n",
       "      <td>RF</td>\n",
       "      <td>1.000</td>\n",
       "      <td>0.725</td>\n",
       "      <td>0.761</td>\n",
       "      <td>0.649</td>\n",
       "      <td>0.612</td>\n",
       "    </tr>\n",
       "    <tr>\n",
       "      <th>4</th>\n",
       "      <td>XGB</td>\n",
       "      <td>0.920</td>\n",
       "      <td>0.728</td>\n",
       "      <td>0.754</td>\n",
       "      <td>0.702</td>\n",
       "      <td>0.574</td>\n",
       "    </tr>\n",
       "  </tbody>\n",
       "</table>\n",
       "</div>"
      ],
      "text/plain": [
       "                 Model  Train AUC ROC  Val AUC ROC  AUC ROC Score  Precision  \\\n",
       "0  Logistic Regression          0.712        0.692          0.717      0.399   \n",
       "1                  SVM          0.735        0.703          0.727      0.418   \n",
       "2                   DT          0.871        0.713          0.766      0.549   \n",
       "3                   RF          1.000        0.725          0.761      0.649   \n",
       "4                  XGB          0.920        0.728          0.754      0.702   \n",
       "\n",
       "   Recall  \n",
       "0   0.737  \n",
       "1   0.735  \n",
       "2   0.686  \n",
       "3   0.612  \n",
       "4   0.574  "
      ]
     },
     "execution_count": 77,
     "metadata": {},
     "output_type": "execute_result"
    }
   ],
   "source": [
    "pd.DataFrame(scores)"
   ]
  },
  {
   "cell_type": "code",
   "execution_count": null,
   "id": "afc0c43c",
   "metadata": {},
   "outputs": [],
   "source": []
  }
 ],
 "metadata": {
  "kernelspec": {
   "display_name": "Python 3",
   "language": "python",
   "name": "python3"
  },
  "language_info": {
   "codemirror_mode": {
    "name": "ipython",
    "version": 3
   },
   "file_extension": ".py",
   "mimetype": "text/x-python",
   "name": "python",
   "nbconvert_exporter": "python",
   "pygments_lexer": "ipython3",
   "version": "3.8.8"
  }
 },
 "nbformat": 4,
 "nbformat_minor": 5
}
